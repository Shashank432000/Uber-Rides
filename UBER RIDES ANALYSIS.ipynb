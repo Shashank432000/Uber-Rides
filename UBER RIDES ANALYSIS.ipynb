{
 "cells": [
  {
   "cell_type": "markdown",
   "id": "eab20e46",
   "metadata": {},
   "source": [
    "# <center> Project Title - UBER Rides Analysis <center>\n",
    " \n",
    "# Shashank Dwivedi"
   ]
  },
  {
   "cell_type": "markdown",
   "id": "f6992a8c",
   "metadata": {},
   "source": [
    "## Problem Statement\n",
    "\n",
    "1. How many trips have I done over the years?\n",
    "2. How many trips were Completed and Canceled?\n",
    "3. Where did most of the dropoffs occur?\n",
    "4. What product type was usually chosen?\n",
    "5. What was the avg. fare, distance, amount and time spent on rides?\n",
    "6. Which weekdays had the highest average fares?\n",
    "7. Which was the longest/shortest and more expensive/cheaper ride?\n",
    "8. What was the average lead time before begining a trip?"
   ]
  },
  {
   "cell_type": "markdown",
   "id": "7023556f",
   "metadata": {},
   "source": [
    "##  Data Discovery\n",
    "\n",
    "***Importing libraries***"
   ]
  },
  {
   "cell_type": "code",
   "execution_count": 1,
   "id": "c0545270",
   "metadata": {},
   "outputs": [],
   "source": [
    "# Libraries for handling numeric computation and dataframes\n",
    "import numpy as np\n",
    "import pandas as pd\n",
    "\n",
    "# Libraries for statistical plotting\n",
    "import matplotlib.pyplot as plt\n",
    "import seaborn as sns\n",
    "\n",
    "import warnings\n",
    "warnings.filterwarnings('ignore')"
   ]
  },
  {
   "cell_type": "markdown",
   "id": "97a7f619",
   "metadata": {},
   "source": [
    "## Data Source"
   ]
  },
  {
   "cell_type": "markdown",
   "id": "81ca3252",
   "metadata": {},
   "source": [
    "https://drive.google.com/file/d/1k-D-tdKXWHCpQFflpIJvfZAQgPyDedk-/view?usp=sharing"
   ]
  },
  {
   "cell_type": "markdown",
   "id": "7f5c8aea",
   "metadata": {},
   "source": [
    "### Redaing data"
   ]
  },
  {
   "cell_type": "code",
   "execution_count": 2,
   "id": "92a4e2c5",
   "metadata": {},
   "outputs": [],
   "source": [
    "rides=pd.read_csv(\"https://drive.google.com/uc?id=1k-D-tdKXWHCpQFflpIJvfZAQgPyDedk-\")"
   ]
  },
  {
   "cell_type": "markdown",
   "id": "f2b42b7b",
   "metadata": {},
   "source": [
    "***Use .head( ) method to gain more sensibility around data formatting and understand the overall structure of the dataset values.***"
   ]
  },
  {
   "cell_type": "code",
   "execution_count": 3,
   "id": "8dca091b",
   "metadata": {},
   "outputs": [
    {
     "data": {
      "text/html": [
       "<div>\n",
       "<style scoped>\n",
       "    .dataframe tbody tr th:only-of-type {\n",
       "        vertical-align: middle;\n",
       "    }\n",
       "\n",
       "    .dataframe tbody tr th {\n",
       "        vertical-align: top;\n",
       "    }\n",
       "\n",
       "    .dataframe thead th {\n",
       "        text-align: right;\n",
       "    }\n",
       "</style>\n",
       "<table border=\"1\" class=\"dataframe\">\n",
       "  <thead>\n",
       "    <tr style=\"text-align: right;\">\n",
       "      <th></th>\n",
       "      <th>City</th>\n",
       "      <th>Product Type</th>\n",
       "      <th>Trip or Order Status</th>\n",
       "      <th>Request Time</th>\n",
       "      <th>Begin Trip Time</th>\n",
       "      <th>Begin Trip Lat</th>\n",
       "      <th>Begin Trip Lng</th>\n",
       "      <th>Dropoff Time</th>\n",
       "      <th>Dropoff Lat</th>\n",
       "      <th>Dropoff Lng</th>\n",
       "      <th>Distance (miles)</th>\n",
       "      <th>Fare Amount</th>\n",
       "      <th>Fare Currency</th>\n",
       "    </tr>\n",
       "  </thead>\n",
       "  <tbody>\n",
       "    <tr>\n",
       "      <th>0</th>\n",
       "      <td>458</td>\n",
       "      <td>Black</td>\n",
       "      <td>COMPLETED</td>\n",
       "      <td>2021-01-13 22:06:46 +0000 UTC</td>\n",
       "      <td>2021-01-13 22:11:10 +0000 UTC</td>\n",
       "      <td>-23.599752</td>\n",
       "      <td>-46.715954</td>\n",
       "      <td>2021-01-13 22:29:13 +0000 UTC</td>\n",
       "      <td>-23.559359</td>\n",
       "      <td>-46.666542</td>\n",
       "      <td>4.84</td>\n",
       "      <td>29.63</td>\n",
       "      <td>BRL</td>\n",
       "    </tr>\n",
       "    <tr>\n",
       "      <th>1</th>\n",
       "      <td>458</td>\n",
       "      <td>VIP</td>\n",
       "      <td>COMPLETED</td>\n",
       "      <td>2021-01-13 20:21:05 +0000 UTC</td>\n",
       "      <td>2021-01-13 20:27:29 +0000 UTC</td>\n",
       "      <td>-23.559298</td>\n",
       "      <td>-46.666454</td>\n",
       "      <td>2021-01-13 20:54:50 +0000 UTC</td>\n",
       "      <td>-23.599585</td>\n",
       "      <td>-46.715717</td>\n",
       "      <td>5.31</td>\n",
       "      <td>20.86</td>\n",
       "      <td>BRL</td>\n",
       "    </tr>\n",
       "    <tr>\n",
       "      <th>2</th>\n",
       "      <td>458</td>\n",
       "      <td>VIP</td>\n",
       "      <td>COMPLETED</td>\n",
       "      <td>2021-01-03 00:23:22 +0000 UTC</td>\n",
       "      <td>2021-01-03 00:33:00 +0000 UTC</td>\n",
       "      <td>-23.626593</td>\n",
       "      <td>-46.659410</td>\n",
       "      <td>2021-01-03 00:50:56 +0000 UTC</td>\n",
       "      <td>-23.559273</td>\n",
       "      <td>-46.666595</td>\n",
       "      <td>5.90</td>\n",
       "      <td>34.23</td>\n",
       "      <td>BRL</td>\n",
       "    </tr>\n",
       "    <tr>\n",
       "      <th>3</th>\n",
       "      <td>458</td>\n",
       "      <td>VIP</td>\n",
       "      <td>COMPLETED</td>\n",
       "      <td>2020-12-11 23:16:33 +0000 UTC</td>\n",
       "      <td>2020-12-11 23:27:32 +0000 UTC</td>\n",
       "      <td>-23.559410</td>\n",
       "      <td>-46.666435</td>\n",
       "      <td>2020-12-12 00:32:47 +0000 UTC</td>\n",
       "      <td>-23.425755</td>\n",
       "      <td>-46.481190</td>\n",
       "      <td>19.74</td>\n",
       "      <td>58.77</td>\n",
       "      <td>BRL</td>\n",
       "    </tr>\n",
       "    <tr>\n",
       "      <th>4</th>\n",
       "      <td>458</td>\n",
       "      <td>VIP</td>\n",
       "      <td>COMPLETED</td>\n",
       "      <td>2020-12-11 00:35:46 +0000 UTC</td>\n",
       "      <td>2020-12-11 00:46:46 +0000 UTC</td>\n",
       "      <td>-23.584846</td>\n",
       "      <td>-46.663590</td>\n",
       "      <td>2020-12-11 00:57:57 +0000 UTC</td>\n",
       "      <td>-23.559261</td>\n",
       "      <td>-46.666510</td>\n",
       "      <td>2.54</td>\n",
       "      <td>12.63</td>\n",
       "      <td>BRL</td>\n",
       "    </tr>\n",
       "  </tbody>\n",
       "</table>\n",
       "</div>"
      ],
      "text/plain": [
       "   City Product Type Trip or Order Status                   Request Time  \\\n",
       "0   458        Black            COMPLETED  2021-01-13 22:06:46 +0000 UTC   \n",
       "1   458          VIP            COMPLETED  2021-01-13 20:21:05 +0000 UTC   \n",
       "2   458          VIP            COMPLETED  2021-01-03 00:23:22 +0000 UTC   \n",
       "3   458          VIP            COMPLETED  2020-12-11 23:16:33 +0000 UTC   \n",
       "4   458          VIP            COMPLETED  2020-12-11 00:35:46 +0000 UTC   \n",
       "\n",
       "                 Begin Trip Time  Begin Trip Lat  Begin Trip Lng  \\\n",
       "0  2021-01-13 22:11:10 +0000 UTC      -23.599752      -46.715954   \n",
       "1  2021-01-13 20:27:29 +0000 UTC      -23.559298      -46.666454   \n",
       "2  2021-01-03 00:33:00 +0000 UTC      -23.626593      -46.659410   \n",
       "3  2020-12-11 23:27:32 +0000 UTC      -23.559410      -46.666435   \n",
       "4  2020-12-11 00:46:46 +0000 UTC      -23.584846      -46.663590   \n",
       "\n",
       "                    Dropoff Time  Dropoff Lat  Dropoff Lng  Distance (miles)  \\\n",
       "0  2021-01-13 22:29:13 +0000 UTC   -23.559359   -46.666542              4.84   \n",
       "1  2021-01-13 20:54:50 +0000 UTC   -23.599585   -46.715717              5.31   \n",
       "2  2021-01-03 00:50:56 +0000 UTC   -23.559273   -46.666595              5.90   \n",
       "3  2020-12-12 00:32:47 +0000 UTC   -23.425755   -46.481190             19.74   \n",
       "4  2020-12-11 00:57:57 +0000 UTC   -23.559261   -46.666510              2.54   \n",
       "\n",
       "   Fare Amount Fare Currency  \n",
       "0        29.63           BRL  \n",
       "1        20.86           BRL  \n",
       "2        34.23           BRL  \n",
       "3        58.77           BRL  \n",
       "4        12.63           BRL  "
      ]
     },
     "execution_count": 3,
     "metadata": {},
     "output_type": "execute_result"
    }
   ],
   "source": [
    "rides.head()"
   ]
  },
  {
   "cell_type": "markdown",
   "id": "577ef6ff",
   "metadata": {},
   "source": [
    "## Checking basic dataset information (data types and dimensions)"
   ]
  },
  {
   "cell_type": "code",
   "execution_count": 4,
   "id": "affe985f",
   "metadata": {},
   "outputs": [
    {
     "name": "stdout",
     "output_type": "stream",
     "text": [
      "<class 'pandas.core.frame.DataFrame'>\n",
      "RangeIndex: 554 entries, 0 to 553\n",
      "Data columns (total 13 columns):\n",
      " #   Column                Non-Null Count  Dtype  \n",
      "---  ------                --------------  -----  \n",
      " 0   City                  554 non-null    int64  \n",
      " 1   Product Type          551 non-null    object \n",
      " 2   Trip or Order Status  554 non-null    object \n",
      " 3   Request Time          554 non-null    object \n",
      " 4   Begin Trip Time       554 non-null    object \n",
      " 5   Begin Trip Lat        525 non-null    float64\n",
      " 6   Begin Trip Lng        525 non-null    float64\n",
      " 7   Dropoff Time          554 non-null    object \n",
      " 8   Dropoff Lat           525 non-null    float64\n",
      " 9   Dropoff Lng           525 non-null    float64\n",
      " 10  Distance (miles)      554 non-null    float64\n",
      " 11  Fare Amount           554 non-null    float64\n",
      " 12  Fare Currency         551 non-null    object \n",
      "dtypes: float64(6), int64(1), object(6)\n",
      "memory usage: 56.4+ KB\n"
     ]
    }
   ],
   "source": [
    "rides.info()"
   ]
  },
  {
   "cell_type": "markdown",
   "id": "91e7380b",
   "metadata": {},
   "source": [
    "***.rename( ) method allows you to rename axis labels (indexes and columns). In this case, I decided to normalize column names to clean up coding, since I could later call columns easily typing <data_frame>.<column>***"
   ]
  },
  {
   "cell_type": "code",
   "execution_count": 5,
   "id": "e8b4dace",
   "metadata": {},
   "outputs": [],
   "source": [
    "rides.rename(columns={'Trip or Order Status': 'status', \n",
    "    'Request Time': 'request_time',\n",
    "    'Product Type':'product_type',\n",
    "    'Begin Trip Time':'begin_time',\n",
    "    'Begin Trip Lat':'begin_lat',\n",
    "    'Begin Trip Lng':'begin_lng',\n",
    "    'Dropoff Time':'dropoff_time',\n",
    "    'Dropoff Lat':'dropoff_lat',\n",
    "    'Dropoff Lng':'dropoff_lng',\n",
    "    'Distance (miles)':'distance_miles',\n",
    "    'Fare Amount':'fare_amount',\n",
    "    'Fare Currency':'fare_currency',\n",
    "    'City':'city'}, inplace=True)"
   ]
  },
  {
   "cell_type": "markdown",
   "id": "bb334a55",
   "metadata": {},
   "source": [
    "#### Checking missing/null values"
   ]
  },
  {
   "cell_type": "code",
   "execution_count": 6,
   "id": "e2e84f44",
   "metadata": {},
   "outputs": [
    {
     "data": {
      "text/plain": [
       "begin_lat         29\n",
       "begin_lng         29\n",
       "dropoff_lat       29\n",
       "dropoff_lng       29\n",
       "product_type       3\n",
       "fare_currency      3\n",
       "city               0\n",
       "status             0\n",
       "request_time       0\n",
       "begin_time         0\n",
       "dropoff_time       0\n",
       "distance_miles     0\n",
       "fare_amount        0\n",
       "dtype: int64"
      ]
     },
     "execution_count": 6,
     "metadata": {},
     "output_type": "execute_result"
    }
   ],
   "source": [
    "rides.isna().sum().sort_values(ascending=False)"
   ]
  },
  {
   "cell_type": "markdown",
   "id": "bdec4a38",
   "metadata": {},
   "source": [
    "* We can see there are 29 missing values in 4 columns."
   ]
  },
  {
   "cell_type": "markdown",
   "id": "1a290d77",
   "metadata": {},
   "source": [
    "#### Checking For duplicates"
   ]
  },
  {
   "cell_type": "code",
   "execution_count": 7,
   "id": "70211bc2",
   "metadata": {},
   "outputs": [
    {
     "data": {
      "text/plain": [
       "0"
      ]
     },
     "execution_count": 7,
     "metadata": {},
     "output_type": "execute_result"
    }
   ],
   "source": [
    "rides.duplicated().sum()"
   ]
  },
  {
   "cell_type": "markdown",
   "id": "0ec953db",
   "metadata": {},
   "source": [
    "* There are no duplicates values in dataset"
   ]
  },
  {
   "cell_type": "markdown",
   "id": "b7b6301d",
   "metadata": {},
   "source": [
    "## Data Preparation\n"
   ]
  },
  {
   "cell_type": "markdown",
   "id": "f5b7f8aa",
   "metadata": {},
   "source": [
    "***I decided to remove the column fare_currency, since all my trips happened inside a single country (Brazil).***"
   ]
  },
  {
   "cell_type": "code",
   "execution_count": 8,
   "id": "5640ca25",
   "metadata": {},
   "outputs": [],
   "source": [
    "rides.drop(columns=\"fare_currency\", inplace=True)"
   ]
  },
  {
   "cell_type": "markdown",
   "id": "13d89167",
   "metadata": {},
   "source": [
    "### Now let’s check the existence of missing values."
   ]
  },
  {
   "cell_type": "code",
   "execution_count": 9,
   "id": "0fe10890",
   "metadata": {},
   "outputs": [
    {
     "data": {
      "text/plain": [
       "begin_lat         29\n",
       "begin_lng         29\n",
       "dropoff_lat       29\n",
       "dropoff_lng       29\n",
       "product_type       3\n",
       "city               0\n",
       "status             0\n",
       "request_time       0\n",
       "begin_time         0\n",
       "dropoff_time       0\n",
       "distance_miles     0\n",
       "fare_amount        0\n",
       "dtype: int64"
      ]
     },
     "execution_count": 9,
     "metadata": {},
     "output_type": "execute_result"
    }
   ],
   "source": [
    "rides.isnull().sum().sort_values(ascending=False)"
   ]
  },
  {
   "cell_type": "markdown",
   "id": "b8d6f535",
   "metadata": {},
   "source": [
    "***Despite empty Lng and Lat values (29 total), there were found 3 records without product_type. As shown below, these records are insignificant to my dataset, since practically no columns are fulfilled.***"
   ]
  },
  {
   "cell_type": "code",
   "execution_count": 10,
   "id": "b1d4f8c2",
   "metadata": {},
   "outputs": [
    {
     "data": {
      "text/html": [
       "<div>\n",
       "<style scoped>\n",
       "    .dataframe tbody tr th:only-of-type {\n",
       "        vertical-align: middle;\n",
       "    }\n",
       "\n",
       "    .dataframe tbody tr th {\n",
       "        vertical-align: top;\n",
       "    }\n",
       "\n",
       "    .dataframe thead th {\n",
       "        text-align: right;\n",
       "    }\n",
       "</style>\n",
       "<table border=\"1\" class=\"dataframe\">\n",
       "  <thead>\n",
       "    <tr style=\"text-align: right;\">\n",
       "      <th></th>\n",
       "      <th>city</th>\n",
       "      <th>product_type</th>\n",
       "      <th>status</th>\n",
       "      <th>request_time</th>\n",
       "      <th>begin_time</th>\n",
       "      <th>begin_lat</th>\n",
       "      <th>begin_lng</th>\n",
       "      <th>dropoff_time</th>\n",
       "      <th>dropoff_lat</th>\n",
       "      <th>dropoff_lng</th>\n",
       "      <th>distance_miles</th>\n",
       "      <th>fare_amount</th>\n",
       "    </tr>\n",
       "  </thead>\n",
       "  <tbody>\n",
       "    <tr>\n",
       "      <th>281</th>\n",
       "      <td>458</td>\n",
       "      <td>NaN</td>\n",
       "      <td>UNFULFILLED</td>\n",
       "      <td>2018-05-26 18:36:51 +0000 UTC</td>\n",
       "      <td>1970-01-01 00:00:00 +0000 UTC</td>\n",
       "      <td>NaN</td>\n",
       "      <td>NaN</td>\n",
       "      <td>1970-01-01 00:00:00 +0000 UTC</td>\n",
       "      <td>NaN</td>\n",
       "      <td>NaN</td>\n",
       "      <td>0.0</td>\n",
       "      <td>0.0</td>\n",
       "    </tr>\n",
       "    <tr>\n",
       "      <th>362</th>\n",
       "      <td>1449</td>\n",
       "      <td>NaN</td>\n",
       "      <td>UNFULFILLED</td>\n",
       "      <td>2018-02-13 01:59:25 +0000 UTC</td>\n",
       "      <td>1970-01-01 00:00:00 +0000 UTC</td>\n",
       "      <td>NaN</td>\n",
       "      <td>NaN</td>\n",
       "      <td>1970-01-01 00:00:00 +0000 UTC</td>\n",
       "      <td>NaN</td>\n",
       "      <td>NaN</td>\n",
       "      <td>0.0</td>\n",
       "      <td>0.0</td>\n",
       "    </tr>\n",
       "    <tr>\n",
       "      <th>392</th>\n",
       "      <td>1449</td>\n",
       "      <td>NaN</td>\n",
       "      <td>UNFULFILLED</td>\n",
       "      <td>2018-01-01 04:44:10 +0000 UTC</td>\n",
       "      <td>1970-01-01 00:00:00 +0000 UTC</td>\n",
       "      <td>NaN</td>\n",
       "      <td>NaN</td>\n",
       "      <td>1970-01-01 00:00:00 +0000 UTC</td>\n",
       "      <td>NaN</td>\n",
       "      <td>NaN</td>\n",
       "      <td>0.0</td>\n",
       "      <td>0.0</td>\n",
       "    </tr>\n",
       "  </tbody>\n",
       "</table>\n",
       "</div>"
      ],
      "text/plain": [
       "     city product_type       status                   request_time  \\\n",
       "281   458          NaN  UNFULFILLED  2018-05-26 18:36:51 +0000 UTC   \n",
       "362  1449          NaN  UNFULFILLED  2018-02-13 01:59:25 +0000 UTC   \n",
       "392  1449          NaN  UNFULFILLED  2018-01-01 04:44:10 +0000 UTC   \n",
       "\n",
       "                        begin_time  begin_lat  begin_lng  \\\n",
       "281  1970-01-01 00:00:00 +0000 UTC        NaN        NaN   \n",
       "362  1970-01-01 00:00:00 +0000 UTC        NaN        NaN   \n",
       "392  1970-01-01 00:00:00 +0000 UTC        NaN        NaN   \n",
       "\n",
       "                      dropoff_time  dropoff_lat  dropoff_lng  distance_miles  \\\n",
       "281  1970-01-01 00:00:00 +0000 UTC          NaN          NaN             0.0   \n",
       "362  1970-01-01 00:00:00 +0000 UTC          NaN          NaN             0.0   \n",
       "392  1970-01-01 00:00:00 +0000 UTC          NaN          NaN             0.0   \n",
       "\n",
       "     fare_amount  \n",
       "281          0.0  \n",
       "362          0.0  \n",
       "392          0.0  "
      ]
     },
     "execution_count": 10,
     "metadata": {},
     "output_type": "execute_result"
    }
   ],
   "source": [
    "rides[rides.product_type.isnull()]"
   ]
  },
  {
   "cell_type": "markdown",
   "id": "358bb137",
   "metadata": {},
   "source": [
    "***So now, let’s get rid of these 3 records before proceding.***"
   ]
  },
  {
   "cell_type": "code",
   "execution_count": 11,
   "id": "ff0f9206",
   "metadata": {},
   "outputs": [],
   "source": [
    "rides.dropna(subset=['product_type'], inplace=True)"
   ]
  },
  {
   "cell_type": "markdown",
   "id": "c075bc6b",
   "metadata": {},
   "source": [
    "#### Checking other missing values"
   ]
  },
  {
   "cell_type": "code",
   "execution_count": 12,
   "id": "42cc1e31",
   "metadata": {},
   "outputs": [
    {
     "data": {
      "text/html": [
       "<div>\n",
       "<style scoped>\n",
       "    .dataframe tbody tr th:only-of-type {\n",
       "        vertical-align: middle;\n",
       "    }\n",
       "\n",
       "    .dataframe tbody tr th {\n",
       "        vertical-align: top;\n",
       "    }\n",
       "\n",
       "    .dataframe thead th {\n",
       "        text-align: right;\n",
       "    }\n",
       "</style>\n",
       "<table border=\"1\" class=\"dataframe\">\n",
       "  <thead>\n",
       "    <tr style=\"text-align: right;\">\n",
       "      <th></th>\n",
       "      <th>city</th>\n",
       "      <th>product_type</th>\n",
       "      <th>status</th>\n",
       "      <th>request_time</th>\n",
       "      <th>begin_time</th>\n",
       "      <th>begin_lat</th>\n",
       "      <th>begin_lng</th>\n",
       "      <th>dropoff_time</th>\n",
       "      <th>dropoff_lat</th>\n",
       "      <th>dropoff_lng</th>\n",
       "      <th>distance_miles</th>\n",
       "      <th>fare_amount</th>\n",
       "    </tr>\n",
       "  </thead>\n",
       "  <tbody>\n",
       "    <tr>\n",
       "      <th>339</th>\n",
       "      <td>458</td>\n",
       "      <td>uberX</td>\n",
       "      <td>CANCELED</td>\n",
       "      <td>2018-03-04 21:43:00 +0000 UTC</td>\n",
       "      <td>1970-01-01 00:00:00 +0000 UTC</td>\n",
       "      <td>NaN</td>\n",
       "      <td>NaN</td>\n",
       "      <td>1970-01-01 00:00:00 +0000 UTC</td>\n",
       "      <td>NaN</td>\n",
       "      <td>NaN</td>\n",
       "      <td>0.0</td>\n",
       "      <td>0.0</td>\n",
       "    </tr>\n",
       "    <tr>\n",
       "      <th>319</th>\n",
       "      <td>458</td>\n",
       "      <td>POOL</td>\n",
       "      <td>CANCELED</td>\n",
       "      <td>2018-03-21 22:36:04 +0000 UTC</td>\n",
       "      <td>1970-01-01 00:00:00 +0000 UTC</td>\n",
       "      <td>NaN</td>\n",
       "      <td>NaN</td>\n",
       "      <td>1970-01-01 00:00:00 +0000 UTC</td>\n",
       "      <td>NaN</td>\n",
       "      <td>NaN</td>\n",
       "      <td>0.0</td>\n",
       "      <td>0.0</td>\n",
       "    </tr>\n",
       "    <tr>\n",
       "      <th>442</th>\n",
       "      <td>458</td>\n",
       "      <td>POOL</td>\n",
       "      <td>CANCELED</td>\n",
       "      <td>2017-10-31 09:22:39 +0000 UTC</td>\n",
       "      <td>1970-01-01 00:00:00 +0000 UTC</td>\n",
       "      <td>NaN</td>\n",
       "      <td>NaN</td>\n",
       "      <td>1970-01-01 00:00:00 +0000 UTC</td>\n",
       "      <td>NaN</td>\n",
       "      <td>NaN</td>\n",
       "      <td>0.0</td>\n",
       "      <td>0.0</td>\n",
       "    </tr>\n",
       "    <tr>\n",
       "      <th>84</th>\n",
       "      <td>458</td>\n",
       "      <td>UberX</td>\n",
       "      <td>CANCELED</td>\n",
       "      <td>2019-12-10 23:55:25 +0000 UTC</td>\n",
       "      <td>1970-01-01 00:00:00 +0000 UTC</td>\n",
       "      <td>NaN</td>\n",
       "      <td>NaN</td>\n",
       "      <td>1970-01-01 00:00:00 +0000 UTC</td>\n",
       "      <td>NaN</td>\n",
       "      <td>NaN</td>\n",
       "      <td>0.0</td>\n",
       "      <td>0.0</td>\n",
       "    </tr>\n",
       "    <tr>\n",
       "      <th>83</th>\n",
       "      <td>458</td>\n",
       "      <td>UberX</td>\n",
       "      <td>CANCELED</td>\n",
       "      <td>2019-12-10 23:57:58 +0000 UTC</td>\n",
       "      <td>1970-01-01 00:00:00 +0000 UTC</td>\n",
       "      <td>NaN</td>\n",
       "      <td>NaN</td>\n",
       "      <td>1970-01-01 00:00:00 +0000 UTC</td>\n",
       "      <td>NaN</td>\n",
       "      <td>NaN</td>\n",
       "      <td>0.0</td>\n",
       "      <td>0.0</td>\n",
       "    </tr>\n",
       "    <tr>\n",
       "      <th>226</th>\n",
       "      <td>458</td>\n",
       "      <td>Pool</td>\n",
       "      <td>CANCELED</td>\n",
       "      <td>2018-08-01 11:40:34 +0000 UTC</td>\n",
       "      <td>1970-01-01 00:00:00 +0000 UTC</td>\n",
       "      <td>NaN</td>\n",
       "      <td>NaN</td>\n",
       "      <td>1970-01-01 00:00:00 +0000 UTC</td>\n",
       "      <td>NaN</td>\n",
       "      <td>NaN</td>\n",
       "      <td>0.0</td>\n",
       "      <td>0.0</td>\n",
       "    </tr>\n",
       "    <tr>\n",
       "      <th>286</th>\n",
       "      <td>458</td>\n",
       "      <td>POOL</td>\n",
       "      <td>CANCELED</td>\n",
       "      <td>2018-05-17 01:58:05 +0000 UTC</td>\n",
       "      <td>1970-01-01 00:00:00 +0000 UTC</td>\n",
       "      <td>NaN</td>\n",
       "      <td>NaN</td>\n",
       "      <td>1970-01-01 00:00:00 +0000 UTC</td>\n",
       "      <td>NaN</td>\n",
       "      <td>NaN</td>\n",
       "      <td>0.0</td>\n",
       "      <td>0.0</td>\n",
       "    </tr>\n",
       "    <tr>\n",
       "      <th>245</th>\n",
       "      <td>458</td>\n",
       "      <td>Pool</td>\n",
       "      <td>CANCELED</td>\n",
       "      <td>2018-07-12 11:51:54 +0000 UTC</td>\n",
       "      <td>1970-01-01 00:00:00 +0000 UTC</td>\n",
       "      <td>NaN</td>\n",
       "      <td>NaN</td>\n",
       "      <td>1970-01-01 00:00:00 +0000 UTC</td>\n",
       "      <td>NaN</td>\n",
       "      <td>NaN</td>\n",
       "      <td>0.0</td>\n",
       "      <td>0.0</td>\n",
       "    </tr>\n",
       "  </tbody>\n",
       "</table>\n",
       "</div>"
      ],
      "text/plain": [
       "     city product_type    status                   request_time  \\\n",
       "339   458        uberX  CANCELED  2018-03-04 21:43:00 +0000 UTC   \n",
       "319   458         POOL  CANCELED  2018-03-21 22:36:04 +0000 UTC   \n",
       "442   458         POOL  CANCELED  2017-10-31 09:22:39 +0000 UTC   \n",
       "84    458        UberX  CANCELED  2019-12-10 23:55:25 +0000 UTC   \n",
       "83    458        UberX  CANCELED  2019-12-10 23:57:58 +0000 UTC   \n",
       "226   458         Pool  CANCELED  2018-08-01 11:40:34 +0000 UTC   \n",
       "286   458         POOL  CANCELED  2018-05-17 01:58:05 +0000 UTC   \n",
       "245   458         Pool  CANCELED  2018-07-12 11:51:54 +0000 UTC   \n",
       "\n",
       "                        begin_time  begin_lat  begin_lng  \\\n",
       "339  1970-01-01 00:00:00 +0000 UTC        NaN        NaN   \n",
       "319  1970-01-01 00:00:00 +0000 UTC        NaN        NaN   \n",
       "442  1970-01-01 00:00:00 +0000 UTC        NaN        NaN   \n",
       "84   1970-01-01 00:00:00 +0000 UTC        NaN        NaN   \n",
       "83   1970-01-01 00:00:00 +0000 UTC        NaN        NaN   \n",
       "226  1970-01-01 00:00:00 +0000 UTC        NaN        NaN   \n",
       "286  1970-01-01 00:00:00 +0000 UTC        NaN        NaN   \n",
       "245  1970-01-01 00:00:00 +0000 UTC        NaN        NaN   \n",
       "\n",
       "                      dropoff_time  dropoff_lat  dropoff_lng  distance_miles  \\\n",
       "339  1970-01-01 00:00:00 +0000 UTC          NaN          NaN             0.0   \n",
       "319  1970-01-01 00:00:00 +0000 UTC          NaN          NaN             0.0   \n",
       "442  1970-01-01 00:00:00 +0000 UTC          NaN          NaN             0.0   \n",
       "84   1970-01-01 00:00:00 +0000 UTC          NaN          NaN             0.0   \n",
       "83   1970-01-01 00:00:00 +0000 UTC          NaN          NaN             0.0   \n",
       "226  1970-01-01 00:00:00 +0000 UTC          NaN          NaN             0.0   \n",
       "286  1970-01-01 00:00:00 +0000 UTC          NaN          NaN             0.0   \n",
       "245  1970-01-01 00:00:00 +0000 UTC          NaN          NaN             0.0   \n",
       "\n",
       "     fare_amount  \n",
       "339          0.0  \n",
       "319          0.0  \n",
       "442          0.0  \n",
       "84           0.0  \n",
       "83           0.0  \n",
       "226          0.0  \n",
       "286          0.0  \n",
       "245          0.0  "
      ]
     },
     "execution_count": 12,
     "metadata": {},
     "output_type": "execute_result"
    }
   ],
   "source": [
    "rides[rides.begin_lat.isna()].sample(8)"
   ]
  },
  {
   "cell_type": "markdown",
   "id": "85b9c41d",
   "metadata": {},
   "source": [
    "* The presence of null values in these four columns is attributed to instances where rides were canceled.\n",
    "* Let's fill these values with some specfic values ."
   ]
  },
  {
   "cell_type": "code",
   "execution_count": 13,
   "id": "6046d99f",
   "metadata": {},
   "outputs": [],
   "source": [
    "rides.fillna(\"-\",inplace=True)"
   ]
  },
  {
   "cell_type": "markdown",
   "id": "92c76147",
   "metadata": {},
   "source": [
    "### Now let’s check again the existence of missing values."
   ]
  },
  {
   "cell_type": "code",
   "execution_count": 14,
   "id": "d0b9935f",
   "metadata": {},
   "outputs": [
    {
     "data": {
      "text/plain": [
       "city            0\n",
       "product_type    0\n",
       "status          0\n",
       "request_time    0\n",
       "begin_time      0\n",
       "dtype: int64"
      ]
     },
     "execution_count": 14,
     "metadata": {},
     "output_type": "execute_result"
    }
   ],
   "source": [
    "rides.isnull().sum().sort_values(ascending=False).head()"
   ]
  },
  {
   "cell_type": "markdown",
   "id": "79e52ea2",
   "metadata": {},
   "source": [
    "* Now there are no missing values in our dataset"
   ]
  },
  {
   "cell_type": "markdown",
   "id": "ee760d22",
   "metadata": {},
   "source": [
    "### Data Cleansing: Categorical features\n",
    "\n",
    "While analyzing the first categorical column <product_type>, I could clearly see that some work was necessary since I could find different values referring to the same category. Then, I summarized 15 original categories in 5 ones."
   ]
  },
  {
   "cell_type": "code",
   "execution_count": 15,
   "id": "8ec13a12",
   "metadata": {},
   "outputs": [
    {
     "data": {
      "text/plain": [
       "UberX                   169\n",
       "uberX                   144\n",
       "uberX VIP                81\n",
       "VIP                      71\n",
       "POOL                     36\n",
       "Pool                     12\n",
       "UberEATS Marketplace     10\n",
       "POOL: MATCHED             8\n",
       "uberPOOL: MATCHED         5\n",
       "uberPOOL                  5\n",
       "Pool: MATCHED             4\n",
       "Black                     3\n",
       "Juntos                    1\n",
       "UberBLACK                 1\n",
       "uberx                     1\n",
       "Name: product_type, dtype: int64"
      ]
     },
     "execution_count": 15,
     "metadata": {},
     "output_type": "execute_result"
    }
   ],
   "source": [
    "# Checking categories in product_type column\n",
    "\n",
    "rides.product_type.value_counts()"
   ]
  },
  {
   "cell_type": "code",
   "execution_count": 16,
   "id": "5b7760ee",
   "metadata": {},
   "outputs": [],
   "source": [
    "# Categories reclassification\n",
    "\n",
    "product_mapping = {'UberX':'UberX','uberX':'UberX',\n",
    "                   'uberX VIP':'UberX','VIP':'UberX',\n",
    "                   'POOL':'Pool','POOL: MATCHED':'Pool',\n",
    "                   'UberBLACK': 'Black',\n",
    "                   'uberx':'UberX','uberPOOL':'Pool',\n",
    "                   'uberPOOL: MATCHED':'Pool',\n",
    "                   'Pool: MATCHED':'Pool'}"
   ]
  },
  {
   "cell_type": "code",
   "execution_count": 17,
   "id": "ba5409b9",
   "metadata": {},
   "outputs": [],
   "source": [
    "# New categories replacement\n",
    "\n",
    "rides['product_type'].replace(product_mapping, inplace=True)"
   ]
  },
  {
   "cell_type": "code",
   "execution_count": 18,
   "id": "c3f322aa",
   "metadata": {},
   "outputs": [
    {
     "data": {
      "text/plain": [
       "UberX                   466\n",
       "Pool                     70\n",
       "UberEATS Marketplace     10\n",
       "Black                     4\n",
       "Juntos                    1\n",
       "Name: product_type, dtype: int64"
      ]
     },
     "execution_count": 18,
     "metadata": {},
     "output_type": "execute_result"
    }
   ],
   "source": [
    "# Checking new categories in product_type column\n",
    "rides.product_type.value_counts()"
   ]
  },
  {
   "cell_type": "markdown",
   "id": "357d02a1",
   "metadata": {},
   "source": [
    "***As the scope of this analysis is only around Uber rides, I removed UberEATS records from my dataset.***"
   ]
  },
  {
   "cell_type": "code",
   "execution_count": 19,
   "id": "c4fcce9b",
   "metadata": {},
   "outputs": [
    {
     "data": {
      "text/plain": [
       "UberX     466\n",
       "Pool       70\n",
       "Black       4\n",
       "Juntos      1\n",
       "Name: product_type, dtype: int64"
      ]
     },
     "execution_count": 19,
     "metadata": {},
     "output_type": "execute_result"
    }
   ],
   "source": [
    "rides = rides[rides['product_type']!='UberEATS Marketplace']\n",
    "rides['product_type'].value_counts()"
   ]
  },
  {
   "cell_type": "markdown",
   "id": "6f0ec795",
   "metadata": {},
   "source": [
    "***Our second categorical feature <status> seems well classified in 3 statuses, which will not require any treatment.***"
   ]
  },
  {
   "cell_type": "code",
   "execution_count": 20,
   "id": "eecf4db0",
   "metadata": {},
   "outputs": [
    {
     "data": {
      "text/plain": [
       "COMPLETED          444\n",
       "CANCELED            87\n",
       "DRIVER_CANCELED     10\n",
       "Name: status, dtype: int64"
      ]
     },
     "execution_count": 20,
     "metadata": {},
     "output_type": "execute_result"
    }
   ],
   "source": [
    "rides.status.value_counts()"
   ]
  },
  {
   "cell_type": "markdown",
   "id": "2a662194",
   "metadata": {},
   "source": [
    "### Data Transformation: Handling dates\n",
    "\n",
    "***Our date features are in fact object data types, so we need to convert them into datetime format.***"
   ]
  },
  {
   "cell_type": "code",
   "execution_count": 21,
   "id": "81c26460",
   "metadata": {},
   "outputs": [],
   "source": [
    "# Library for manipulating dates and times\n",
    "from datetime import datetime\n",
    "from datetime import timedelta\n",
    "\n",
    "# Function to convert features to datetime\n",
    "def date_convertion(df, cols):\n",
    "\n",
    "  for col in cols:\n",
    "    df[col] = df[col].\\\n",
    "    apply(lambda x: x.replace(' +0000 UTC', ''))\n",
    "    df[col] = pd.to_datetime(df[col])\n",
    "    \n",
    "  return df\n",
    "\n",
    "# Applying date_convertion function to date features \n",
    "rides = date_convertion(rides, \n",
    "                        ['request_time', \n",
    "                         'begin_time', \n",
    "                         'dropoff_time'])"
   ]
  },
  {
   "cell_type": "markdown",
   "id": "d7f7db79",
   "metadata": {},
   "source": [
    "#### Checking again info of data to see data types of dataset"
   ]
  },
  {
   "cell_type": "code",
   "execution_count": 22,
   "id": "77605db6",
   "metadata": {},
   "outputs": [
    {
     "name": "stdout",
     "output_type": "stream",
     "text": [
      "<class 'pandas.core.frame.DataFrame'>\n",
      "Int64Index: 541 entries, 0 to 553\n",
      "Data columns (total 12 columns):\n",
      " #   Column          Non-Null Count  Dtype         \n",
      "---  ------          --------------  -----         \n",
      " 0   city            541 non-null    int64         \n",
      " 1   product_type    541 non-null    object        \n",
      " 2   status          541 non-null    object        \n",
      " 3   request_time    541 non-null    datetime64[ns]\n",
      " 4   begin_time      541 non-null    datetime64[ns]\n",
      " 5   begin_lat       541 non-null    object        \n",
      " 6   begin_lng       541 non-null    object        \n",
      " 7   dropoff_time    541 non-null    datetime64[ns]\n",
      " 8   dropoff_lat     541 non-null    object        \n",
      " 9   dropoff_lng     541 non-null    object        \n",
      " 10  distance_miles  541 non-null    float64       \n",
      " 11  fare_amount     541 non-null    float64       \n",
      "dtypes: datetime64[ns](3), float64(2), int64(1), object(6)\n",
      "memory usage: 54.9+ KB\n"
     ]
    }
   ],
   "source": [
    "rides.info()"
   ]
  },
  {
   "cell_type": "markdown",
   "id": "5c0b7ea7",
   "metadata": {},
   "source": [
    "* Now we can clearly see our datetime columns data type has been changed successfully"
   ]
  },
  {
   "cell_type": "markdown",
   "id": "10a8623a",
   "metadata": {},
   "source": [
    "###  Feature Engineering: Creating new features"
   ]
  },
  {
   "cell_type": "markdown",
   "id": "227d957b",
   "metadata": {},
   "source": [
    "***Now, let’s break down <request_time> feature into different date parts. I just did that for <request_time>, since I'm assuming that all rides were completed on the same day (believe me, I have already checked that! :D ).***"
   ]
  },
  {
   "cell_type": "code",
   "execution_count": 23,
   "id": "477415f4",
   "metadata": {},
   "outputs": [],
   "source": [
    "rides['year'] = rides.request_time.map(lambda x: datetime.strftime(x,\"%Y\"))\n",
    "rides['month'] = rides.request_time.map(lambda x: datetime.strftime(x,\"%b\"))\n",
    "rides['weekday'] = rides.request_time.map(lambda x: datetime.strftime(x,\"%a\"))\n",
    "rides['time'] = rides.request_time.map(lambda x: datetime.strftime(x,\"%H:%M\"))"
   ]
  },
  {
   "cell_type": "markdown",
   "id": "aea846ac",
   "metadata": {},
   "source": [
    "\n",
    "***Based on <fare_amount> and <distance_miles> features I've created a new feature called <amount_km>, which would help us understand how much is paid by kilometer ridden.***"
   ]
  },
  {
   "cell_type": "code",
   "execution_count": 24,
   "id": "a8fc6882",
   "metadata": {},
   "outputs": [],
   "source": [
    "rides['distance_km'] = round(rides['distance_miles']*1.60934,2)\n",
    "rides['amount_km'] = round(rides['fare_amount']/rides['distance_km'],2)"
   ]
  },
  {
   "cell_type": "markdown",
   "id": "32886497",
   "metadata": {},
   "source": [
    "***Delta time between <request_time> and <begin_time> will let us know how much time (in minutes) I usually waited for Uber cars to arrive at my destination. In this case, it was calculated on a minutes base.***"
   ]
  },
  {
   "cell_type": "code",
   "execution_count": 25,
   "id": "d6cd429e",
   "metadata": {},
   "outputs": [],
   "source": [
    "rides['request_lead_time'] = rides.begin_time - rides.request_time\n",
    "rides['request_lead_time'] = rides['request_lead_time'].\\\n",
    "apply(lambda x:round(x.total_seconds()/60,1))"
   ]
  },
  {
   "cell_type": "code",
   "execution_count": 26,
   "id": "cf742d9a",
   "metadata": {},
   "outputs": [
    {
     "data": {
      "text/html": [
       "<div>\n",
       "<style scoped>\n",
       "    .dataframe tbody tr th:only-of-type {\n",
       "        vertical-align: middle;\n",
       "    }\n",
       "\n",
       "    .dataframe tbody tr th {\n",
       "        vertical-align: top;\n",
       "    }\n",
       "\n",
       "    .dataframe thead th {\n",
       "        text-align: right;\n",
       "    }\n",
       "</style>\n",
       "<table border=\"1\" class=\"dataframe\">\n",
       "  <thead>\n",
       "    <tr style=\"text-align: right;\">\n",
       "      <th></th>\n",
       "      <th>request_lead_time</th>\n",
       "    </tr>\n",
       "  </thead>\n",
       "  <tbody>\n",
       "    <tr>\n",
       "      <th>0</th>\n",
       "      <td>4.4</td>\n",
       "    </tr>\n",
       "    <tr>\n",
       "      <th>1</th>\n",
       "      <td>6.4</td>\n",
       "    </tr>\n",
       "    <tr>\n",
       "      <th>2</th>\n",
       "      <td>9.6</td>\n",
       "    </tr>\n",
       "    <tr>\n",
       "      <th>3</th>\n",
       "      <td>11.0</td>\n",
       "    </tr>\n",
       "    <tr>\n",
       "      <th>4</th>\n",
       "      <td>11.0</td>\n",
       "    </tr>\n",
       "  </tbody>\n",
       "</table>\n",
       "</div>"
      ],
      "text/plain": [
       "   request_lead_time\n",
       "0                4.4\n",
       "1                6.4\n",
       "2                9.6\n",
       "3               11.0\n",
       "4               11.0"
      ]
     },
     "execution_count": 26,
     "metadata": {},
     "output_type": "execute_result"
    }
   ],
   "source": [
    "rides[['request_lead_time']].head()"
   ]
  },
  {
   "cell_type": "markdown",
   "id": "bba89277",
   "metadata": {},
   "source": [
    "***Similarly, the delta time between <dropoff_time> and <begin_time> will let us know how much time (in minutes) was spent on each trip.***"
   ]
  },
  {
   "cell_type": "code",
   "execution_count": 27,
   "id": "174227ed",
   "metadata": {},
   "outputs": [],
   "source": [
    "rides['trip_duration'] = rides.dropoff_time - rides.begin_time\n",
    "rides['trip_duration'] = rides['trip_duration']. \\\n",
    "apply(lambda x: round(x.total_seconds()/60,1))"
   ]
  },
  {
   "cell_type": "code",
   "execution_count": 28,
   "id": "c996aeca",
   "metadata": {},
   "outputs": [
    {
     "data": {
      "text/html": [
       "<div>\n",
       "<style scoped>\n",
       "    .dataframe tbody tr th:only-of-type {\n",
       "        vertical-align: middle;\n",
       "    }\n",
       "\n",
       "    .dataframe tbody tr th {\n",
       "        vertical-align: top;\n",
       "    }\n",
       "\n",
       "    .dataframe thead th {\n",
       "        text-align: right;\n",
       "    }\n",
       "</style>\n",
       "<table border=\"1\" class=\"dataframe\">\n",
       "  <thead>\n",
       "    <tr style=\"text-align: right;\">\n",
       "      <th></th>\n",
       "      <th>count</th>\n",
       "      <th>mean</th>\n",
       "      <th>std</th>\n",
       "      <th>min</th>\n",
       "      <th>25%</th>\n",
       "      <th>50%</th>\n",
       "      <th>75%</th>\n",
       "      <th>max</th>\n",
       "    </tr>\n",
       "  </thead>\n",
       "  <tbody>\n",
       "    <tr>\n",
       "      <th>trip_duration</th>\n",
       "      <td>541.0</td>\n",
       "      <td>-330813.613309</td>\n",
       "      <td>2.893255e+06</td>\n",
       "      <td>-26348350.1</td>\n",
       "      <td>5.8</td>\n",
       "      <td>15.8</td>\n",
       "      <td>26.0</td>\n",
       "      <td>91.8</td>\n",
       "    </tr>\n",
       "  </tbody>\n",
       "</table>\n",
       "</div>"
      ],
      "text/plain": [
       "               count           mean           std         min  25%   50%  \\\n",
       "trip_duration  541.0 -330813.613309  2.893255e+06 -26348350.1  5.8  15.8   \n",
       "\n",
       "                75%   max  \n",
       "trip_duration  26.0  91.8  "
      ]
     },
     "execution_count": 28,
     "metadata": {},
     "output_type": "execute_result"
    }
   ],
   "source": [
    "rides[['trip_duration']].describe().T"
   ]
  },
  {
   "cell_type": "markdown",
   "id": "63065d8d",
   "metadata": {},
   "source": [
    "***As features in records with Canceled and Driver_Cancelled status will not be useful for my analysis, I set them as null values to clean up a little bit more in my dataset.***"
   ]
  },
  {
   "cell_type": "code",
   "execution_count": 29,
   "id": "aa081d20",
   "metadata": {},
   "outputs": [
    {
     "data": {
      "text/plain": [
       "COMPLETED          444\n",
       "CANCELED            87\n",
       "DRIVER_CANCELED     10\n",
       "Name: status, dtype: int64"
      ]
     },
     "execution_count": 29,
     "metadata": {},
     "output_type": "execute_result"
    }
   ],
   "source": [
    "rides.status.value_counts()"
   ]
  },
  {
   "cell_type": "code",
   "execution_count": 30,
   "id": "16eecd72",
   "metadata": {},
   "outputs": [
    {
     "data": {
      "text/plain": [
       "(444, 20)"
      ]
     },
     "execution_count": 30,
     "metadata": {},
     "output_type": "execute_result"
    }
   ],
   "source": [
    "completed_rides = rides[(rides.status!='CANCELED') & (rides.status!='DRIVER_CANCELED')]\n",
    "completed_rides.shape"
   ]
  },
  {
   "cell_type": "code",
   "execution_count": 31,
   "id": "59bf19fc",
   "metadata": {},
   "outputs": [
    {
     "data": {
      "text/plain": [
       "COMPLETED    444\n",
       "Name: status, dtype: int64"
      ]
     },
     "execution_count": 31,
     "metadata": {},
     "output_type": "execute_result"
    }
   ],
   "source": [
    "completed_rides.status.value_counts()"
   ]
  },
  {
   "cell_type": "markdown",
   "id": "6652870b",
   "metadata": {},
   "source": [
    "# Data Visualization"
   ]
  },
  {
   "cell_type": "code",
   "execution_count": 32,
   "id": "fa49a7dd",
   "metadata": {},
   "outputs": [
    {
     "data": {
      "image/png": "[encoded data removed]",
      "text/plain": [
       "<Figure size 640x480 with 1 Axes>"
      ]
     },
     "metadata": {},
     "output_type": "display_data"
    }
   ],
   "source": [
    "sns.set_style(style=\"darkgrid\")\n",
    "fig=sns.countplot(x=\"status\",data=rides)\n",
    "for label in fig.containers:\n",
    "    fig.bar_label(label)\n",
    "plt.show()"
   ]
  },
  {
   "cell_type": "markdown",
   "id": "a348ba0e",
   "metadata": {},
   "source": [
    "* The dataset indicates a total of 444 completed rides, along with 87 canceled rides and 10 instances of driver-canceled rides."
   ]
  },
  {
   "cell_type": "markdown",
   "id": "a44fe9ba",
   "metadata": {},
   "source": [
    "##  Data Analysis & Storytelling: It’s show time!\n",
    "\n",
    "In order to organize better my analysis, I will create an additional data frame, removing all trips with status CANCELED and DRIVER_CANCELED, since they should be disregarded from some questions."
   ]
  },
  {
   "cell_type": "code",
   "execution_count": 33,
   "id": "7cb4481d",
   "metadata": {},
   "outputs": [
    {
     "data": {
      "text/plain": [
       "2021      3\n",
       "2016     17\n",
       "2020     52\n",
       "2019    106\n",
       "2017    120\n",
       "2018    146\n",
       "Name: year, dtype: int64"
      ]
     },
     "execution_count": 33,
     "metadata": {},
     "output_type": "execute_result"
    }
   ],
   "source": [
    "completed_rides.year.value_counts().sort_values()"
   ]
  },
  {
   "cell_type": "markdown",
   "id": "98d0418c",
   "metadata": {},
   "source": [
    "### 1. How many trips have I done over the years?\n",
    "\n",
    "A total of 444 trips were completed from Apr’16 to Jan’21. If we disregard 2016 and 2021 (not full years), we can clearly see that from 2017 to 2019 the average number of rides per year is 124, and that there is a huge drop from 2019 to 2020 (-51%). This is easily explained by the COVID outbreak.\n",
    "\n",
    "Now, imagine if we extrapolate this result to all Uber users…"
   ]
  },
  {
   "cell_type": "code",
   "execution_count": 34,
   "id": "e2945715",
   "metadata": {},
   "outputs": [
    {
     "name": "stdout",
     "output_type": "stream",
     "text": [
      "Total trips:  444\n",
      "2016     17\n",
      "2017    120\n",
      "2018    146\n",
      "2019    106\n",
      "2020     52\n",
      "2021      3\n",
      "Name: year, dtype: int64\n"
     ]
    },
    {
     "data": {
      "image/png": "[encoded data removed]",
      "text/plain": [
       "<Figure size 640x480 with 1 Axes>"
      ]
     },
     "metadata": {},
     "output_type": "display_data"
    }
   ],
   "source": [
    "print('Total trips: ', completed_rides.status.count())\n",
    "print(completed_rides.year.value_counts().sort_index(ascending=True))\n",
    "fig=sns.countplot(data=completed_rides,x='year',\n",
    "    order=['2016','2017','2018','2019','2020','2021'], \n",
    "    palette='pastel')\n",
    "for label in fig.containers:\n",
    "    fig.bar_label(label)\n",
    "plt.show()"
   ]
  },
  {
   "cell_type": "markdown",
   "id": "61791e26",
   "metadata": {},
   "source": [
    "### 2. How many trips were completed or canceled?\n",
    "\n",
    "Looking at the stacked bars below, we can see that excluding 2015 and 2021 (due to low trip volume), 2020 has the highest cancelation rate. This could be an alarming indicator, considering the drastic impact caused to the businesses after the Covid outbreak. Overall, the cancelation rate was 17.9% (considering RIDERS and DRIVERS cancelations)."
   ]
  },
  {
   "cell_type": "code",
   "execution_count": 35,
   "id": "513be30c",
   "metadata": {},
   "outputs": [
    {
     "name": "stdout",
     "output_type": "stream",
     "text": [
      "Total trips:  541\n",
      "COMPLETED          82.1\n",
      "CANCELED           16.1\n",
      "DRIVER_CANCELED     1.8\n",
      "Name: status, dtype: float64\n"
     ]
    },
    {
     "data": {
      "image/png": "[encoded data removed]",
      "text/plain": [
       "<Figure size 1500x500 with 1 Axes>"
      ]
     },
     "metadata": {},
     "output_type": "display_data"
    }
   ],
   "source": [
    "plt.figure(figsize=(15,5))\n",
    "print('Total trips: ', \n",
    "rides.status.count())\n",
    "print(round(rides.status.value_counts()/rides.status.size*100,1))\n",
    "fig=sns.countplot(data=rides, \n",
    "x='year', \n",
    "order=['2015','2016','2017','2018','2019','2020','2021'], \n",
    "hue='status',width=0.6)\n",
    "for label in fig.containers:\n",
    "    fig.bar_label(label)\n",
    "plt.show()"
   ]
  },
  {
   "cell_type": "markdown",
   "id": "8e5375ed",
   "metadata": {},
   "source": [
    "### 3. Where did most of the dropoffs occur?\n",
    "\n",
    "The following heatmap dynamically shows the most frequented areas throughout different hues and intensities. This could be valuable information for Uber to adjust prices and optimize demand in certain regions, also combining time-space data to track users' behaviors."
   ]
  },
  {
   "cell_type": "code",
   "execution_count": 36,
   "id": "336fcd88",
   "metadata": {},
   "outputs": [
    {
     "name": "stdout",
     "output_type": "stream",
     "text": [
      "Requirement already satisfied: folium in e:\\anaconda\\lib\\site-packages (0.14.0)\n",
      "Requirement already satisfied: branca>=0.6.0 in e:\\anaconda\\lib\\site-packages (from folium) (0.6.0)\n",
      "Requirement already satisfied: jinja2>=2.9 in e:\\anaconda\\lib\\site-packages (from folium) (3.1.2)\n",
      "Requirement already satisfied: numpy in e:\\anaconda\\lib\\site-packages (from folium) (1.24.3)\n",
      "Requirement already satisfied: requests in e:\\anaconda\\lib\\site-packages (from folium) (2.29.0)\n",
      "Requirement already satisfied: MarkupSafe>=2.0 in e:\\anaconda\\lib\\site-packages (from jinja2>=2.9->folium) (2.1.1)\n",
      "Requirement already satisfied: charset-normalizer<4,>=2 in e:\\anaconda\\lib\\site-packages (from requests->folium) (2.0.4)\n",
      "Requirement already satisfied: idna<4,>=2.5 in e:\\anaconda\\lib\\site-packages (from requests->folium) (3.4)\n",
      "Requirement already satisfied: urllib3<1.27,>=1.21.1 in e:\\anaconda\\lib\\site-packages (from requests->folium) (1.26.16)\n",
      "Requirement already satisfied: certifi>=2017.4.17 in e:\\anaconda\\lib\\site-packages (from requests->folium) (2023.7.22)\n"
     ]
    }
   ],
   "source": [
    "!pip install folium"
   ]
  },
  {
   "cell_type": "code",
   "execution_count": 37,
   "id": "fa7f36dd",
   "metadata": {},
   "outputs": [
    {
     "data": {
      "text/html": [
       "<div style=\"width:100%;\"><div style=\"position:relative;width:100%;height:0;padding-bottom:60%;\"><span style=\"color:#565656\">Make this Notebook Trusted to load map: File -> Trust Notebook</span><iframe srcdoc=\"&lt;!DOCTYPE html&gt;\n",
       "&lt;html&gt;\n",
       "&lt;head&gt;\n",
       "    \n",
       "    &lt;meta http-equiv=&quot;content-type&quot; content=&quot;text/html; charset=UTF-8&quot; /&gt;\n",
       "    \n",
       "        &lt;script&gt;\n",
       "            L_NO_TOUCH = false;\n",
       "            L_DISABLE_3D = false;\n",
       "        &lt;/script&gt;\n",
       "    \n",
       "    &lt;style&gt;html, body {width: 100%;height: 100%;margin: 0;padding: 0;}&lt;/style&gt;\n",
       "    &lt;style&gt;#map {position:absolute;top:0;bottom:0;right:0;left:0;}&lt;/style&gt;\n",
       "    &lt;script src=&quot;https://cdn.jsdelivr.net/npm/leaflet@1.9.3/dist/leaflet.js&quot;&gt;&lt;/script&gt;\n",
       "    &lt;script src=&quot;https://code.jquery.com/jquery-1.12.4.min.js&quot;&gt;&lt;/script&gt;\n",
       "    &lt;script src=&quot;https://cdn.jsdelivr.net/npm/bootstrap@5.2.2/dist/js/bootstrap.bundle.min.js&quot;&gt;&lt;/script&gt;\n",
       "    &lt;script src=&quot;https://cdnjs.cloudflare.com/ajax/libs/Leaflet.awesome-markers/2.0.2/leaflet.awesome-markers.js&quot;&gt;&lt;/script&gt;\n",
       "    &lt;link rel=&quot;stylesheet&quot; href=&quot;https://cdn.jsdelivr.net/npm/leaflet@1.9.3/dist/leaflet.css&quot;/&gt;\n",
       "    &lt;link rel=&quot;stylesheet&quot; href=&quot;https://cdn.jsdelivr.net/npm/bootstrap@5.2.2/dist/css/bootstrap.min.css&quot;/&gt;\n",
       "    &lt;link rel=&quot;stylesheet&quot; href=&quot;https://netdna.bootstrapcdn.com/bootstrap/3.0.0/css/bootstrap.min.css&quot;/&gt;\n",
       "    &lt;link rel=&quot;stylesheet&quot; href=&quot;https://cdn.jsdelivr.net/npm/@fortawesome/fontawesome-free@6.2.0/css/all.min.css&quot;/&gt;\n",
       "    &lt;link rel=&quot;stylesheet&quot; href=&quot;https://cdnjs.cloudflare.com/ajax/libs/Leaflet.awesome-markers/2.0.2/leaflet.awesome-markers.css&quot;/&gt;\n",
       "    &lt;link rel=&quot;stylesheet&quot; href=&quot;https://cdn.jsdelivr.net/gh/python-visualization/folium/folium/templates/leaflet.awesome.rotate.min.css&quot;/&gt;\n",
       "    \n",
       "            &lt;meta name=&quot;viewport&quot; content=&quot;width=device-width,\n",
       "                initial-scale=1.0, maximum-scale=1.0, user-scalable=no&quot; /&gt;\n",
       "            &lt;style&gt;\n",
       "                #map_0b1cbd27c444207baee4ae3f9bbf9daf {\n",
       "                    position: relative;\n",
       "                    width: 80.0%;\n",
       "                    height: 50.0%;\n",
       "                    left: 0.0%;\n",
       "                    top: 0.0%;\n",
       "                }\n",
       "                .leaflet-container { font-size: 1rem; }\n",
       "            &lt;/style&gt;\n",
       "        \n",
       "    &lt;script src=&quot;https://cdn.jsdelivr.net/gh/python-visualization/folium@main/folium/templates/leaflet_heat.min.js&quot;&gt;&lt;/script&gt;\n",
       "&lt;/head&gt;\n",
       "&lt;body&gt;\n",
       "    \n",
       "    \n",
       "            &lt;div class=&quot;folium-map&quot; id=&quot;map_0b1cbd27c444207baee4ae3f9bbf9daf&quot; &gt;&lt;/div&gt;\n",
       "        \n",
       "&lt;/body&gt;\n",
       "&lt;script&gt;\n",
       "    \n",
       "    \n",
       "            var map_0b1cbd27c444207baee4ae3f9bbf9daf = L.map(\n",
       "                &quot;map_0b1cbd27c444207baee4ae3f9bbf9daf&quot;,\n",
       "                {\n",
       "                    center: [-23.5489, -46.6388],\n",
       "                    crs: L.CRS.EPSG3857,\n",
       "                    zoom: 7,\n",
       "                    zoomControl: true,\n",
       "                    preferCanvas: false,\n",
       "                }\n",
       "            );\n",
       "            L.control.scale().addTo(map_0b1cbd27c444207baee4ae3f9bbf9daf);\n",
       "\n",
       "            \n",
       "\n",
       "        \n",
       "    \n",
       "            var tile_layer_2f24a2dc1dda5711d7955832e8f0a399 = L.tileLayer(\n",
       "                &quot;https://stamen-tiles-{s}.a.ssl.fastly.net/terrain/{z}/{x}/{y}.jpg&quot;,\n",
       "                {&quot;attribution&quot;: &quot;Map tiles by \\u003ca target=\\&quot;_blank\\&quot; href=\\&quot;http://stamen.com\\&quot;\\u003eStamen Design\\u003c/a\\u003e, under \\u003ca target=\\&quot;_blank\\&quot; href=\\&quot;http://creativecommons.org/licenses/by/3.0\\&quot;\\u003eCC BY 3.0\\u003c/a\\u003e. Data by \\u0026copy; \\u003ca target=\\&quot;_blank\\&quot; href=\\&quot;http://openstreetmap.org\\&quot;\\u003eOpenStreetMap\\u003c/a\\u003e, under \\u003ca target=\\&quot;_blank\\&quot; href=\\&quot;http://creativecommons.org/licenses/by-sa/3.0\\&quot;\\u003eCC BY SA\\u003c/a\\u003e.&quot;, &quot;detectRetina&quot;: false, &quot;maxNativeZoom&quot;: 18, &quot;maxZoom&quot;: 18, &quot;minZoom&quot;: 0, &quot;noWrap&quot;: false, &quot;opacity&quot;: 1, &quot;subdomains&quot;: &quot;abc&quot;, &quot;tms&quot;: false}\n",
       "            ).addTo(map_0b1cbd27c444207baee4ae3f9bbf9daf);\n",
       "        \n",
       "    \n",
       "            var heat_map_cf2c9aa3dbe8f48e0560da121e6723c5 = L.heatLayer(\n",
       "                [[-23.559359, -46.666542], [-23.599585, -46.715717], [-23.559273, -46.666595], [-23.425755, -46.48119], [-23.559261, -46.66651], [-23.6245, -46.701077], [-23.559233, -46.666546], [-23.559366, -46.666637], [-23.54775, -46.644104], [-23.559292, -46.66655], [-23.567545, -46.66403], [-23.559343, -46.666496], [-23.566214, -46.675385], [-23.56196, -46.65819], [-23.624607, -46.701088], [-23.55949, -46.66645], [-23.624554, -46.701042], [-23.5593595, -46.6665002], [-23.6245499, -46.7011459], [-23.6245747, -46.701121], [-23.5594793, -46.6664565], [-23.6247021, -46.7009501], [-23.6244897, -46.7009874], [-23.6249448, -46.7013194], [-23.5593722, -46.6664251], [-23.6249106, -46.7006571], [-23.5595624, -46.6665394], [-23.6245325, -46.7010044], [-23.6245682, -46.7009553], [-23.5594719, -46.6664113], [-23.6246338, -46.7009416], [-23.55945, -46.66646], [-23.6245219, -46.7011361], [-23.5897694, -46.6340214], [-23.568199, -46.6481043], [-23.5593779, -46.6664841], [-23.6245191, -46.7010364], [-23.624603, -46.7009155], [-23.6245406, -46.7011174], [-23.624573, -46.7009811], [-23.554227, -46.6560723], [-23.6245017, -46.700992], [-23.6245215, -46.7011146], [-23.6245334, -46.7010361], [-23.6245533, -46.700999], [-23.6245483, -46.7007607], [-23.5592766, -46.6666408], [-23.6245632, -46.7011078], [-23.5592925, -46.6664492], [-23.5593245, -46.6665357], [-23.6245428, -46.7010183], [-23.6244904, -46.7009642], [-23.5593177, -46.6664697], [-23.5897198, -46.6340898], [-23.6247, -46.70114], [-23.5593471, -46.6663865], [-23.5599594, -46.6966915], [-23.6236397, -46.6996955], [-23.5666085, -46.679704], [-23.6246805, -46.700688], [-23.5595676, -46.6651815], [-23.6245537, -46.7009911], [-23.6246039, -46.7011292], [-23.5593657, -46.6664886], [-23.6246512, -46.7012253], [-23.5593573, -46.6666084], [-23.62508, -46.70083], [-23.5591479, -46.6665651], [-23.49942, -46.83712], [-23.5681581, -46.648213], [-23.5513271, -46.6782767], [-23.55944, -46.66647], [-23.6251984, -46.7009311], [-23.6328069, -46.6934561], [-23.559358, -46.6664925], [-23.5897093, -46.6341447], [-23.5838811, -46.6736383], [-23.5630458, -46.6726512], [-23.5593337, -46.6665488], [-23.6112972, -46.5707363], [-23.5898961, -46.6347077], [-23.564655, -46.6803749], [-23.5897394, -46.6339828], [-23.5901449, -46.634857], [-23.5925744, -46.6485508], [-23.6113086, -46.5708697], [-23.61126, -46.57101], [-23.6111714, -46.571065], [-23.6111541, -46.5710089], [-23.5897361, -46.6342802], [-23.5593949, -46.6665817], [-23.5578081, -46.6817216], [-23.6113211, -46.5707727], [-23.6112737, -46.570818], [-23.5896776, -46.6339224], [-23.6114832, -46.570899], [-23.61135, -46.57091], [-23.6113042, -46.5708159], [-23.6113413, -46.5707881], [-23.6113665, -46.5709412], [-23.6114896, -46.5708406], [-23.5594191, -46.6663381], [-23.5688799, -46.6610875], [-23.611196, -46.571191], [-23.6235222, -46.5656995], [-23.61148, -46.57081], [-23.5897059, -46.6340259], [-23.5765285, -46.657221], [-23.6113663, -46.57086], [-23.6234363, -46.5657323], [-23.6114641, -46.570791], [-23.5813131, -46.6805361], [-23.55931, -46.66663], [-23.56342, -46.65128], [-23.5593653, -46.6664751], [-23.6114347, -46.5707262], [-23.6235879, -46.5657363], [-23.6190552, -46.5656031], [-23.611284, -46.5710134], [-23.6114657, -46.5707776], [-23.6113924, -46.570781], [-23.6113489, -46.5708553], [-23.589699, -46.6338321], [-23.5897046, -46.6342625], [-23.5593208, -46.6665461], [-23.499651, -46.6443482], [-23.5897766, -46.6350174], [-23.5718541, -46.6435307], [-23.5897042, -46.6340583], [-23.5592778, -46.6664928], [-23.5897152, -46.6339973], [-23.56548, -46.66629], [-23.5897333, -46.6340835], [-23.6267726, -46.5798585], [-23.6114035, -46.5707249], [-23.5897353, -46.6342724], [-23.5691332, -46.6602163], [-23.5593737, -46.6663778], [-23.5897415, -46.6342876], [-23.589711, -46.6341624], [-23.5899127, -46.6347363], [-23.5552, -46.65715], [-23.5610824, -46.6920423], [-23.5706603, -46.693383], [-23.5897971, -46.634184], [-23.6113438, -46.570978], [-23.5896775, -46.6342089], [-23.5592277, -46.6631332], [-23.58854, -46.67881], [-23.5691248, -46.6612174], [-23.58967, -46.634], [-23.5593764, -46.6631889], [-23.5462117, -46.6486085], [-23.5896768, -46.6341683], [-23.6090984, -46.6666032], [-23.6114817, -46.5706559], [-23.6114035, -46.5708554], [-23.61151, -46.57074], [-23.5592587, -46.66303], [-23.5897222, -46.6341299], [-23.5690166, -46.661077], [-23.5593704, -46.6632237], [-23.5368778, -46.6634445], [-23.6114086, -46.5707626], [-23.5036558, -46.6370967], [-23.5139202, -46.6191831], [-23.5144517, -46.6163633], [-23.5690601, -46.6611127], [-23.5036539, -46.6371543], [-23.5617133, -46.658159], [-23.55575, -46.6552617], [-23.5593646, -46.6632126], [-23.5542748, -46.6561255], [-23.5592926, -46.6631932], [-23.5593606, -46.6631198], [-23.5716401, -46.6882496], [-23.56023173, -46.66414962], [-23.5033043, -46.636905], [-23.6113175, -46.5708262], [-23.5593419, -46.6632209], [-23.5619878, -46.6582328], [-23.6116444, -46.5705324], [-23.5589855, -46.6632146], [-23.61134745, -46.57079129], [-23.5036425, -46.6371866], [-23.6105865, -46.570705], [-23.5036788, -46.637129], [-23.5037043, -46.6327645], [-23.5621533, -46.6578083], [-23.6190601, -46.5656531], [-23.611265, -46.57126], [-23.5690588, -46.6611788], [-23.5035722, -46.6373399], [-23.6111067, -46.5710737], [-23.5034274, -46.637272], [-23.5630296, -46.6670311], [-23.5736364, -46.6556252], [-23.5970083, -46.5748443], [-23.5592227, -46.6632374], [-23.5536201, -46.6942272], [-23.5595104, -46.663229], [-23.503677, -46.6368987], [-23.55945, -46.6632417], [-23.5592518, -46.6630182], [-23.5577831, -46.6898198], [-23.5594317, -46.6633173], [-23.5867741, -46.642758], [-23.6113574, -46.5708662], [-23.5035759, -46.6371187], [-23.61134558, -46.57091107], [-23.503661, -46.6371771], [-23.6113811, -46.5707523], [-23.6114569, -46.5707386], [-23.5036469, -46.6371567], [-23.5032638, -46.6246263], [-23.5592879, -46.6632155], [-23.5036424, -46.6369836], [-23.6113486, -46.5709126], [-23.5601571, -46.6774145], [-23.6111022, -46.57182], [-23.6112414, -46.5708448], [-23.5693051, -46.6599246], [-23.5583273, -46.6605763], [-23.5594438, -46.6633356], [-23.5593885, -46.6632331], [-23.611314, -46.57088793], [-23.5594235, -46.6633392], [-23.5036409, -46.6373103], [-23.5032905, -46.6369492], [-23.5032564, -46.6367743], [-23.5588653, -46.6908072], [-23.6114303, -46.57086], [-23.5834123, -46.6704481], [-23.5035727, -46.63709984], [-23.6234972, -46.5657367], [-23.5033104, -46.6368075], [-23.5618476, -46.6581413], [-23.5032674, -46.6369022], [-23.5034429, -46.6377608], [-23.5578202, -46.689901], [-23.5019996, -46.6273084], [-23.5032578, -46.6367459], [-23.5032054, -46.6370109], [-23.5575996, -46.6895355], [-23.5032828, -46.6368119], [-23.5032569, -46.6370334], [-23.5032128, -46.6379457], [-23.61105, -46.6948029], [-23.6112101, -46.5710416], [-23.6019667, -46.6736382], [-23.5032583, -46.6368603], [-23.5036192, -46.6371554], [-23.5564554, -46.7502916], [-23.5610276, -46.6826267], [-23.5036494, -46.6371391], [-23.5034208, -46.6368915], [-23.5031981, -46.6372663], [-23.5032457, -46.6366457], [-23.6467813, -46.6304311], [-23.5612468, -46.6565113], [-23.503257, -46.6375048], [-23.5032553, -46.6375279], [-23.5032685, -46.6367701], [-23.546632, -46.6042337], [-23.5954224, -46.6907119], [-23.5032237, -46.6370332], [-23.5025158, -46.6364897], [-23.5033975, -46.6366088], [-23.50243945, -46.63649619], [-23.5032727, -46.636787], [-23.5032013, -46.6377976], [-23.5036221, -46.6371587], [-23.6114767, -46.5707417], [-23.503197, -46.6368611], [-23.6111316, -46.5711237], [-23.6234899, -46.5656824], [-23.5032882, -46.6367482], [-23.503291, -46.636849], [-23.5032675, -46.6369339], [-23.5951242, -46.691146], [-23.5595898, -46.6890604], [-23.5032008, -46.6375932], [-23.5032163, -46.6377011], [-23.4321942, -45.068019], [-23.5032193, -46.6377141], [-23.5035504, -46.6374929], [-23.5617439, -46.657929], [-23.5036461, -46.6371739], [-23.5039759, -46.639198], [-23.5181919, -46.6766396], [-23.5035167, -46.637355], [-23.5036583, -46.6368817], [-23.5036722, -46.6372957], [-23.5036414, -46.6367785], [-23.5938773, -46.6912427], [-23.5033387, -46.6372134], [-23.5033095, -46.6372907], [-23.5033634, -46.6369551], [-23.530175, -46.666265], [-23.5036347, -46.637124], [-23.503322, -46.6366226], [-23.4878848, -46.5947091], [-23.5578345, -46.6898763], [-23.503591, -46.6371741], [-23.5823728, -46.6644769], [-23.5616819, -46.658152], [-23.5037175, -46.6371653], [-23.9758385, -46.3011899], [-23.5032566, -46.6371156], [-23.6107181, -46.5702805], [-23.5033627, -46.63673], [-23.503292, -46.6372564], [-23.5032173, -46.6376465], [-23.503255, -46.6373243], [-23.5034308, -46.6364732], [-23.6113615, -46.5708377], [-23.50326, -46.6370583], [-23.9753716, -46.3008707], [-23.9547153, -46.346224], [-23.9757989, -46.301236], [-23.5032583, -46.6372733], [-23.5032044, -46.6368571], [-23.5033071, -46.6370396], [-23.50330782, -46.63752702], [-23.62207, -46.56985], [-23.5032122, -46.637111], [-23.5031903, -46.6368144], [-23.5036026, -46.6373307], [-23.4805317, -46.6064783], [-23.5033132, -46.6366607], [-23.5157182, -46.619488], [-23.503614, -46.6372977], [-23.5032991, -46.6371265], [-23.503618, -46.6373007], [-23.60177075, -46.67760154], [-23.5032867, -46.6366951], [-23.5032866, -46.6368266], [-23.50329369, -46.6367841], [-23.58443324, -46.60516321], [-23.5032916, -46.6371331], [-23.5033033, -46.636945], [-23.5036273, -46.6368185], [-23.503278, -46.6368498], [-23.5033267, -46.6367883], [-23.5033084, -46.6373163], [-23.5032959, -46.6372827], [-23.5032841, -46.6373566], [-23.5031, -46.63692], [-23.503335, -46.636675], [-23.5032604, -46.6367601], [-23.6108178, -46.5702857], [-23.503289, -46.6369199], [-23.6111832, -46.5706626], [-23.5032849, -46.6373822], [-23.6115179, -46.5706344], [-23.5032458, -46.6367602], [-23.5032714, -46.6376718], [-23.6220504, -46.5701294], [-23.5036595, -46.6368117], [-23.6113573, -46.5707287], [-23.5047575, -46.628152], [-23.50331184, -46.63734066], [-23.6037844, -46.6446635], [-23.6112857, -46.5707956], [-23.503144, -46.6368201], [-23.5032976, -46.635072], [-23.6114053, -46.6679377], [-23.5032706, -46.6368144], [-23.5034537, -46.6381879], [-23.5032248, -46.6369166], [-23.5032941, -46.6369395], [-23.5033833, -46.63302], [-23.503285, -46.6379517], [-23.503305, -46.6368483], [-23.5585955, -46.6599003], [-23.5033176, -46.6369607], [-23.5033084, -46.6370028], [-23.6117808, -46.5695641], [-23.6028056, -46.6743477], [-23.6114159, -46.570721], [-23.6110598, -46.5710098], [-23.61111, -46.57121], [-23.61129, -46.5710217], [-23.61133, -46.57136], [-23.6114714, -46.5706741], [-23.6111852, -46.5710471], [-23.6114917, -46.570635], [-23.6111476, -46.571028], [-23.6111476, -46.5709583], [-23.6111639, -46.5708754], [-23.6113337, -46.5707646], [-23.6112529, -46.5710238], [-23.6115989, -46.5706637], [-23.6112042, -46.5710673], [-23.6113167, -46.5708367], [-23.6111309, -46.5712652], [-23.6110929, -46.5711355], [-23.6111595, -46.571014], [-23.6026476, -46.6453556], [-23.6111404, -46.5712019], [-23.6027646, -46.6451823], [-23.565888, -46.6846089], [-23.6111281, -46.5708975], [-23.6111639, -46.5710143], [-23.6109405, -46.5708151], [-23.6110963, -46.5711048], [-23.6111624, -46.5710234], [-23.6111472, -46.5712045], [-23.6110169, -46.5711359], [-23.6111973, -46.5710136], [-23.6025022, -46.6450023], [-23.6111199, -46.5710629], [-23.6112753, -46.5708652], [-23.6113567, -46.5709017], [-23.6110715, -46.5709414], [-23.5976648, -46.6235027], [-23.61124989, -46.57104947], [-23.5740178, -46.6961832], [-23.5934814, -46.6527237], [-23.6205906, -46.6622467], [-23.6027117, -46.6453367], [-23.6110017, -46.5711467], [-23.6111864, -46.5710514], [-23.6029511, -46.645261], [-23.6111339, -46.5717526], [-23.6112239, -46.5710056], [-23.6108462, -46.5714736], [-23.6026436, -46.645322], [-23.61320343, -46.57176448], [-23.6112543, -46.5708784], [-23.6111272, -46.5709949], [-23.61118154, -46.57110295], [-22.9030567, -43.1346819], [-22.9020982, -43.114359], [-23.6026564, -46.6450948], [-23.60262936, -46.64534986], [-23.6026706, -46.6650192], [-23.6110216, -46.571107], [-23.6135612, -46.5763797], [-23.6026544, -46.6453572], [-23.6160678, -46.665922], [-23.6027604, -46.6448974], [-23.6027366, -46.6453516], [-23.5695488, -46.6724122]],\n",
       "                {&quot;blur&quot;: 15, &quot;maxZoom&quot;: 18, &quot;minOpacity&quot;: 0.5, &quot;radius&quot;: 25}\n",
       "            ).addTo(map_0b1cbd27c444207baee4ae3f9bbf9daf);\n",
       "        \n",
       "&lt;/script&gt;\n",
       "&lt;/html&gt;\" style=\"position:absolute;width:100%;height:100%;left:0;top:0;border:none !important;\" allowfullscreen webkitallowfullscreen mozallowfullscreen></iframe></div></div>"
      ],
      "text/plain": [
       "<folium.folium.Map at 0x208bd6e6f90>"
      ]
     },
     "execution_count": 37,
     "metadata": {},
     "output_type": "execute_result"
    }
   ],
   "source": [
    "import folium\n",
    "from folium import plugins\n",
    "\n",
    "coord=[]\n",
    "for lat,lng in zip(completed_rides.dropoff_lat.values,completed_rides.dropoff_lng.values):\n",
    "  coord.append([lat,lng])\n",
    "\n",
    "map = folium.Map(\n",
    "    location=[-23.5489,-46.6388],\n",
    "    tiles='Stamen Terrain',\n",
    "    zoom_start=7,\n",
    "    width='80%', \n",
    "    height='50%',\n",
    "    control_scale=True)\n",
    "\n",
    "map.add_child(plugins.HeatMap(coord))\n",
    "        \n",
    "map"
   ]
  },
  {
   "cell_type": "markdown",
   "id": "9ddddbef",
   "metadata": {},
   "source": [
    "### 4. What product type was usually chosen?\n",
    "\n",
    "UberX was by far the preferred product type with a frequency of 90.3%. So I could probably infer that I am the type of user who usually looks for affordable prices."
   ]
  },
  {
   "cell_type": "code",
   "execution_count": 38,
   "id": "d356ae07",
   "metadata": {},
   "outputs": [
    {
     "name": "stdout",
     "output_type": "stream",
     "text": [
      "       Total Rides     %\n",
      "UberX          401  90.3\n",
      "Pool            39   8.8\n",
      "Black            4   0.9\n"
     ]
    },
    {
     "data": {
      "image/png": "[encoded data removed]",
      "text/plain": [
       "<Figure size 640x480 with 1 Axes>"
      ]
     },
     "metadata": {},
     "output_type": "display_data"
    }
   ],
   "source": [
    "# Creating a serie with product types count\n",
    "pt_rides = \\\n",
    "pd.Series(completed_rides.product_type.value_counts().\\\n",
    "          sort_index(ascending=False))\n",
    "# Transforming serie in dataframe\n",
    "df = pd.DataFrame(pt_rides)\n",
    "# Including new column with trips portion\n",
    "df['%'] = \\\n",
    "(completed_rides.product_type.value_counts(). \\\n",
    " sort_index(ascending=False)/completed_rides. \\\n",
    " product_type.size*100).round(1)\n",
    "#Renaming columns labels\n",
    "df.rename(columns={'product_type':'Total Rides'}, \n",
    "          inplace=True)\n",
    "print(df)\n",
    "# Plotting product types count\n",
    "completed_rides['product_type'].value_counts(). \\\n",
    "plot(kind='bar');"
   ]
  },
  {
   "cell_type": "markdown",
   "id": "7e9e4fba",
   "metadata": {},
   "source": [
    "### 5. What was the average fare, distance, amount, and time spent on rides?\n",
    "\n",
    "Considering all trips, the average amount spent per trip is 19.2 BRL, ridding in approx. 8.1 km. So, if we do a quick simulation on how much I would spend in a year to do daily round trips we would have: 365 days * 2 trips * 19.2 BRL/fare = 14,016 BRL/year\n",
    "\n",
    "Also on average, It was spent approx. 2.4 BRL/km and 21.4 minutes by trip."
   ]
  },
  {
   "cell_type": "code",
   "execution_count": 39,
   "id": "dec374e0",
   "metadata": {},
   "outputs": [
    {
     "name": "stdout",
     "output_type": "stream",
     "text": [
      "Avg. fare: 19.2 BRL\n",
      "Avg. distance: 8.1 km\n",
      "Avg. fare/km: 2.4 BRL/km\n",
      "Avg. time spent on trips: 21.4 minutes\n",
      "\n",
      "Total fare amount: 8532.8 BRL\n",
      "Total distance: 3575.0 km\n",
      "Total time spent on trips: 158.4 hours\n"
     ]
    }
   ],
   "source": [
    "print('Avg. fare:', \n",
    "      round(completed_rides.fare_amount.mean(),1),\n",
    "      'BRL')\n",
    "print('Avg. distance:',\n",
    "      round(completed_rides.distance_km.mean(),1),\n",
    "      'km')\n",
    "print('Avg. fare/km:',\n",
    "      round(completed_rides.fare_amount. \\\n",
    "            sum()/completed_rides.distance_km.sum(),1),\n",
    "      'BRL/km')\n",
    "print('Avg. time spent on trips:',\n",
    "      round(completed_rides.trip_duration.mean(),1),\n",
    "      'minutes')\n",
    "print('')\n",
    "print('Total fare amount:', \n",
    "      round(completed_rides.fare_amount.sum(),1),\n",
    "      'BRL')\n",
    "print('Total distance:',\n",
    "      round(completed_rides.distance_km.sum(),1),\n",
    "      'km')\n",
    "print('Total time spent on trips:',\n",
    "      round(completed_rides.trip_duration.sum()/60,1),\n",
    "      'hours')"
   ]
  },
  {
   "cell_type": "markdown",
   "id": "e78e1528",
   "metadata": {},
   "source": [
    "### 6. Which weekdays had the highest average fares per km ridden?\n",
    "\n",
    "According to the chart below, we can see that Mondays, Wednesdays, Fridays and Sundays were on average the most expensive weekdays. Therefore, it allows us to better understand the weekly seasonality, and find out days with higher profitability for Uber and its drivers."
   ]
  },
  {
   "cell_type": "code",
   "execution_count": 40,
   "id": "a50eac0a",
   "metadata": {},
   "outputs": [
    {
     "data": {
      "text/html": [
       "<div>\n",
       "<style scoped>\n",
       "    .dataframe tbody tr th:only-of-type {\n",
       "        vertical-align: middle;\n",
       "    }\n",
       "\n",
       "    .dataframe tbody tr th {\n",
       "        vertical-align: top;\n",
       "    }\n",
       "\n",
       "    .dataframe thead th {\n",
       "        text-align: right;\n",
       "    }\n",
       "</style>\n",
       "<table border=\"1\" class=\"dataframe\">\n",
       "  <thead>\n",
       "    <tr style=\"text-align: right;\">\n",
       "      <th>weekday</th>\n",
       "      <th>Mon</th>\n",
       "      <th>Tue</th>\n",
       "      <th>Wed</th>\n",
       "      <th>Thu</th>\n",
       "      <th>Fri</th>\n",
       "      <th>Sat</th>\n",
       "      <th>Sun</th>\n",
       "    </tr>\n",
       "    <tr>\n",
       "      <th>year</th>\n",
       "      <th></th>\n",
       "      <th></th>\n",
       "      <th></th>\n",
       "      <th></th>\n",
       "      <th></th>\n",
       "      <th></th>\n",
       "      <th></th>\n",
       "    </tr>\n",
       "  </thead>\n",
       "  <tbody>\n",
       "    <tr>\n",
       "      <th>2016</th>\n",
       "      <td>NaN</td>\n",
       "      <td>NaN</td>\n",
       "      <td>2.8</td>\n",
       "      <td>2.4</td>\n",
       "      <td>NaN</td>\n",
       "      <td>2.1</td>\n",
       "      <td>2.9</td>\n",
       "    </tr>\n",
       "    <tr>\n",
       "      <th>2017</th>\n",
       "      <td>2.8</td>\n",
       "      <td>2.1</td>\n",
       "      <td>2.4</td>\n",
       "      <td>2.2</td>\n",
       "      <td>2.7</td>\n",
       "      <td>2.1</td>\n",
       "      <td>2.7</td>\n",
       "    </tr>\n",
       "    <tr>\n",
       "      <th>2018</th>\n",
       "      <td>2.0</td>\n",
       "      <td>1.9</td>\n",
       "      <td>2.6</td>\n",
       "      <td>2.0</td>\n",
       "      <td>2.2</td>\n",
       "      <td>2.4</td>\n",
       "      <td>2.2</td>\n",
       "    </tr>\n",
       "    <tr>\n",
       "      <th>2019</th>\n",
       "      <td>2.5</td>\n",
       "      <td>2.4</td>\n",
       "      <td>2.1</td>\n",
       "      <td>2.3</td>\n",
       "      <td>3.1</td>\n",
       "      <td>2.3</td>\n",
       "      <td>2.7</td>\n",
       "    </tr>\n",
       "    <tr>\n",
       "      <th>2020</th>\n",
       "      <td>2.7</td>\n",
       "      <td>2.4</td>\n",
       "      <td>2.7</td>\n",
       "      <td>2.6</td>\n",
       "      <td>2.4</td>\n",
       "      <td>3.1</td>\n",
       "      <td>2.8</td>\n",
       "    </tr>\n",
       "    <tr>\n",
       "      <th>2021</th>\n",
       "      <td>NaN</td>\n",
       "      <td>NaN</td>\n",
       "      <td>3.1</td>\n",
       "      <td>NaN</td>\n",
       "      <td>NaN</td>\n",
       "      <td>NaN</td>\n",
       "      <td>3.6</td>\n",
       "    </tr>\n",
       "  </tbody>\n",
       "</table>\n",
       "</div>"
      ],
      "text/plain": [
       "weekday  Mon  Tue  Wed  Thu  Fri  Sat  Sun\n",
       "year                                      \n",
       "2016     NaN  NaN  2.8  2.4  NaN  2.1  2.9\n",
       "2017     2.8  2.1  2.4  2.2  2.7  2.1  2.7\n",
       "2018     2.0  1.9  2.6  2.0  2.2  2.4  2.2\n",
       "2019     2.5  2.4  2.1  2.3  3.1  2.3  2.7\n",
       "2020     2.7  2.4  2.7  2.6  2.4  3.1  2.8\n",
       "2021     NaN  NaN  3.1  NaN  NaN  NaN  3.6"
      ]
     },
     "execution_count": 40,
     "metadata": {},
     "output_type": "execute_result"
    }
   ],
   "source": [
    "#overlapping pivot tables to get weighted average\n",
    "amount_table = \\\n",
    "completed_rides. \\\n",
    "pivot_table(values='fare_amount',aggfunc='sum',\n",
    "    columns='weekday', index='year').round(1)\n",
    "column_order = \\\n",
    "['Mon','Tue','Wed','Thu','Fri','Sat','Sun']\n",
    "amount_table = \\\n",
    "amount_table.reindex(column_order, axis=1)\n",
    "\n",
    "distance_table = \\\n",
    "completed_rides.pivot_table \\\n",
    "(values='distance_km',\n",
    " aggfunc='sum',columns='weekday', \n",
    " index='year').round(1)\n",
    "distance_table = \\\n",
    "distance_table.reindex \\\n",
    "(column_order, axis=1)\n",
    "\n",
    "(amount_table/distance_table).round(1)"
   ]
  },
  {
   "cell_type": "code",
   "execution_count": 41,
   "id": "a52edc3f",
   "metadata": {},
   "outputs": [
    {
     "data": {
      "image/png": "[encoded data removed]",
      "text/plain": [
       "<Figure size 1200x400 with 1 Axes>"
      ]
     },
     "metadata": {},
     "output_type": "display_data"
    }
   ],
   "source": [
    "#creating an auxiliar data frame to \n",
    "#be displayed in category plot \n",
    "aux_serie = \\\n",
    "round((completed_rides.groupby \\\n",
    "       ('weekday')['fare_amount'].sum() \\\n",
    "       /completed_rides.groupby('weekday') \\\n",
    "       ['distance_km'].sum()),2)                                                                                                                              \n",
    "amount_km_df = pd.DataFrame(aux_serie)\n",
    "\n",
    "amount_km_df = amount_km_df.reset_index()\n",
    "amount_km_df.rename(columns= \\\n",
    "    {'weekday':'weekday',0:'values'},inplace=True)\n",
    "\n",
    "sns.catplot(x='weekday', \n",
    "    y='values', \n",
    "    data=amount_km_df, kind='bar', \n",
    "    height=4, aspect=3, \n",
    "    order=['Mon','Tue','Wed','Thu','Fri','Sat','Sun'],\n",
    "    palette='magma');"
   ]
  },
  {
   "cell_type": "markdown",
   "id": "e268d5dd",
   "metadata": {},
   "source": [
    "### 7. Which was the longest/shortest and more expensive/cheaper ride?\n",
    "\n",
    "The table below shows records with the longest (31.77 km) and shortest rides (0.24 km)."
   ]
  },
  {
   "cell_type": "code",
   "execution_count": 42,
   "id": "58de39ce",
   "metadata": {},
   "outputs": [
    {
     "data": {
      "text/html": [
       "<div>\n",
       "<style scoped>\n",
       "    .dataframe tbody tr th:only-of-type {\n",
       "        vertical-align: middle;\n",
       "    }\n",
       "\n",
       "    .dataframe tbody tr th {\n",
       "        vertical-align: top;\n",
       "    }\n",
       "\n",
       "    .dataframe thead th {\n",
       "        text-align: right;\n",
       "    }\n",
       "</style>\n",
       "<table border=\"1\" class=\"dataframe\">\n",
       "  <thead>\n",
       "    <tr style=\"text-align: right;\">\n",
       "      <th></th>\n",
       "      <th>city</th>\n",
       "      <th>product_type</th>\n",
       "      <th>status</th>\n",
       "      <th>request_time</th>\n",
       "      <th>begin_time</th>\n",
       "      <th>begin_lat</th>\n",
       "      <th>begin_lng</th>\n",
       "      <th>dropoff_time</th>\n",
       "      <th>dropoff_lat</th>\n",
       "      <th>dropoff_lng</th>\n",
       "      <th>distance_miles</th>\n",
       "      <th>fare_amount</th>\n",
       "      <th>year</th>\n",
       "      <th>month</th>\n",
       "      <th>weekday</th>\n",
       "      <th>time</th>\n",
       "      <th>distance_km</th>\n",
       "      <th>amount_km</th>\n",
       "      <th>request_lead_time</th>\n",
       "      <th>trip_duration</th>\n",
       "    </tr>\n",
       "  </thead>\n",
       "  <tbody>\n",
       "    <tr>\n",
       "      <th>3</th>\n",
       "      <td>458</td>\n",
       "      <td>UberX</td>\n",
       "      <td>COMPLETED</td>\n",
       "      <td>2020-12-11 23:16:33</td>\n",
       "      <td>2020-12-11 23:27:32</td>\n",
       "      <td>-23.55941</td>\n",
       "      <td>-46.666435</td>\n",
       "      <td>2020-12-12 00:32:47</td>\n",
       "      <td>-23.425755</td>\n",
       "      <td>-46.48119</td>\n",
       "      <td>19.74</td>\n",
       "      <td>58.77</td>\n",
       "      <td>2020</td>\n",
       "      <td>Dec</td>\n",
       "      <td>Fri</td>\n",
       "      <td>23:16</td>\n",
       "      <td>31.77</td>\n",
       "      <td>1.85</td>\n",
       "      <td>11.0</td>\n",
       "      <td>65.2</td>\n",
       "    </tr>\n",
       "    <tr>\n",
       "      <th>305</th>\n",
       "      <td>458</td>\n",
       "      <td>UberX</td>\n",
       "      <td>COMPLETED</td>\n",
       "      <td>2018-04-15 23:18:40</td>\n",
       "      <td>2018-04-15 23:27:42</td>\n",
       "      <td>-23.502636</td>\n",
       "      <td>-46.624952</td>\n",
       "      <td>2018-04-15 23:34:17</td>\n",
       "      <td>-23.50331</td>\n",
       "      <td>-46.636808</td>\n",
       "      <td>0.15</td>\n",
       "      <td>11.27</td>\n",
       "      <td>2018</td>\n",
       "      <td>Apr</td>\n",
       "      <td>Sun</td>\n",
       "      <td>23:18</td>\n",
       "      <td>0.24</td>\n",
       "      <td>46.96</td>\n",
       "      <td>9.0</td>\n",
       "      <td>6.6</td>\n",
       "    </tr>\n",
       "  </tbody>\n",
       "</table>\n",
       "</div>"
      ],
      "text/plain": [
       "     city product_type     status        request_time          begin_time  \\\n",
       "3     458        UberX  COMPLETED 2020-12-11 23:16:33 2020-12-11 23:27:32   \n",
       "305   458        UberX  COMPLETED 2018-04-15 23:18:40 2018-04-15 23:27:42   \n",
       "\n",
       "     begin_lat  begin_lng        dropoff_time dropoff_lat dropoff_lng  \\\n",
       "3    -23.55941 -46.666435 2020-12-12 00:32:47  -23.425755   -46.48119   \n",
       "305 -23.502636 -46.624952 2018-04-15 23:34:17   -23.50331  -46.636808   \n",
       "\n",
       "     distance_miles  fare_amount  year month weekday   time  distance_km  \\\n",
       "3             19.74        58.77  2020   Dec     Fri  23:16        31.77   \n",
       "305            0.15        11.27  2018   Apr     Sun  23:18         0.24   \n",
       "\n",
       "     amount_km  request_lead_time  trip_duration  \n",
       "3         1.85               11.0           65.2  \n",
       "305      46.96                9.0            6.6  "
      ]
     },
     "execution_count": 42,
     "metadata": {},
     "output_type": "execute_result"
    }
   ],
   "source": [
    "rides_distance = \\\n",
    "completed_rides[ \\\n",
    "completed_rides.distance_km== \\\n",
    "completed_rides.distance_km.max()]\n",
    "rides_distance = \\\n",
    "rides_distance.append( \\\n",
    "completed_rides[completed_rides.distance_km \\\n",
    "==completed_rides.distance_km.min()])\n",
    "rides_distance"
   ]
  },
  {
   "cell_type": "markdown",
   "id": "1a8274be",
   "metadata": {},
   "source": [
    "Analyzing the amount paid by km ridden we have: expensive (46.96 BRL/km) and cheaper (0 BRL/km). This effect is basically driven by fixed minimum fare in high-demand periods since the total distance was only 0.24km."
   ]
  },
  {
   "cell_type": "code",
   "execution_count": 43,
   "id": "7caa00c9",
   "metadata": {},
   "outputs": [
    {
     "data": {
      "text/html": [
       "<div>\n",
       "<style scoped>\n",
       "    .dataframe tbody tr th:only-of-type {\n",
       "        vertical-align: middle;\n",
       "    }\n",
       "\n",
       "    .dataframe tbody tr th {\n",
       "        vertical-align: top;\n",
       "    }\n",
       "\n",
       "    .dataframe thead th {\n",
       "        text-align: right;\n",
       "    }\n",
       "</style>\n",
       "<table border=\"1\" class=\"dataframe\">\n",
       "  <thead>\n",
       "    <tr style=\"text-align: right;\">\n",
       "      <th></th>\n",
       "      <th>city</th>\n",
       "      <th>product_type</th>\n",
       "      <th>status</th>\n",
       "      <th>request_time</th>\n",
       "      <th>begin_time</th>\n",
       "      <th>begin_lat</th>\n",
       "      <th>begin_lng</th>\n",
       "      <th>dropoff_time</th>\n",
       "      <th>dropoff_lat</th>\n",
       "      <th>dropoff_lng</th>\n",
       "      <th>distance_miles</th>\n",
       "      <th>fare_amount</th>\n",
       "      <th>year</th>\n",
       "      <th>month</th>\n",
       "      <th>weekday</th>\n",
       "      <th>time</th>\n",
       "      <th>distance_km</th>\n",
       "      <th>amount_km</th>\n",
       "      <th>request_lead_time</th>\n",
       "      <th>trip_duration</th>\n",
       "    </tr>\n",
       "  </thead>\n",
       "  <tbody>\n",
       "    <tr>\n",
       "      <th>305</th>\n",
       "      <td>458</td>\n",
       "      <td>UberX</td>\n",
       "      <td>COMPLETED</td>\n",
       "      <td>2018-04-15 23:18:40</td>\n",
       "      <td>2018-04-15 23:27:42</td>\n",
       "      <td>-23.502636</td>\n",
       "      <td>-46.624952</td>\n",
       "      <td>2018-04-15 23:34:17</td>\n",
       "      <td>-23.50331</td>\n",
       "      <td>-46.636808</td>\n",
       "      <td>0.15</td>\n",
       "      <td>11.27</td>\n",
       "      <td>2018</td>\n",
       "      <td>Apr</td>\n",
       "      <td>Sun</td>\n",
       "      <td>23:18</td>\n",
       "      <td>0.24</td>\n",
       "      <td>46.96</td>\n",
       "      <td>9.0</td>\n",
       "      <td>6.6</td>\n",
       "    </tr>\n",
       "    <tr>\n",
       "      <th>87</th>\n",
       "      <td>458</td>\n",
       "      <td>UberX</td>\n",
       "      <td>COMPLETED</td>\n",
       "      <td>2019-11-30 03:34:56</td>\n",
       "      <td>2019-11-30 03:40:37</td>\n",
       "      <td>-23.591813</td>\n",
       "      <td>-46.69072</td>\n",
       "      <td>2019-11-30 03:53:24</td>\n",
       "      <td>-23.559366</td>\n",
       "      <td>-46.666489</td>\n",
       "      <td>3.54</td>\n",
       "      <td>0.00</td>\n",
       "      <td>2019</td>\n",
       "      <td>Nov</td>\n",
       "      <td>Sat</td>\n",
       "      <td>03:34</td>\n",
       "      <td>5.70</td>\n",
       "      <td>0.00</td>\n",
       "      <td>5.7</td>\n",
       "      <td>12.8</td>\n",
       "    </tr>\n",
       "  </tbody>\n",
       "</table>\n",
       "</div>"
      ],
      "text/plain": [
       "     city product_type     status        request_time          begin_time  \\\n",
       "305   458        UberX  COMPLETED 2018-04-15 23:18:40 2018-04-15 23:27:42   \n",
       "87    458        UberX  COMPLETED 2019-11-30 03:34:56 2019-11-30 03:40:37   \n",
       "\n",
       "     begin_lat  begin_lng        dropoff_time dropoff_lat dropoff_lng  \\\n",
       "305 -23.502636 -46.624952 2018-04-15 23:34:17   -23.50331  -46.636808   \n",
       "87  -23.591813  -46.69072 2019-11-30 03:53:24  -23.559366  -46.666489   \n",
       "\n",
       "     distance_miles  fare_amount  year month weekday   time  distance_km  \\\n",
       "305            0.15        11.27  2018   Apr     Sun  23:18         0.24   \n",
       "87             3.54         0.00  2019   Nov     Sat  03:34         5.70   \n",
       "\n",
       "     amount_km  request_lead_time  trip_duration  \n",
       "305      46.96                9.0            6.6  \n",
       "87        0.00                5.7           12.8  "
      ]
     },
     "execution_count": 43,
     "metadata": {},
     "output_type": "execute_result"
    }
   ],
   "source": [
    "rides_amount_km = \\\n",
    "completed_rides[completed_rides.amount_km== \\\n",
    "completed_rides.amount_km.max()]\n",
    "rides_amount_km = \\\n",
    "rides_amount_km.append( \\\n",
    "completed_rides[completed_rides.amount_km== \\\n",
    "completed_rides.amount_km.min()])\n",
    "rides_amount_km"
   ]
  },
  {
   "cell_type": "markdown",
   "id": "463e7ad4",
   "metadata": {},
   "source": [
    "### 8. What was the average lead time before beginning a trip?\n",
    "\n",
    "It took approximately 5 minutes to start trips after they are requested."
   ]
  },
  {
   "cell_type": "code",
   "execution_count": 44,
   "id": "e34aa9ae",
   "metadata": {},
   "outputs": [
    {
     "name": "stdout",
     "output_type": "stream",
     "text": [
      "4.9 minutes\n"
     ]
    }
   ],
   "source": [
    "print(round(completed_rides.request_lead_time.mean(),1),'minutes')"
   ]
  },
  {
   "cell_type": "markdown",
   "id": "cf6f56fe",
   "metadata": {},
   "source": [
    "## Conclusion!!!\n",
    "\n",
    "***In summary, the exploratory data analysis (EDA) of Uber trips data reveals the following insights:***\n",
    "\n",
    "- **COVID Impact:** Rides dropped by 51% in 2020 due to COVID-19, affecting business significantly.\n",
    "\n",
    "- **Cancellation Rates:** 2020 had the highest cancellation rate (17.9%), reflecting pandemic challenges.\n",
    "\n",
    "- **Geographical Patterns:** Heatmap identifies **high-demand areas** for pricing and demand adjustments.\n",
    "\n",
    "- **User Preferences:** UberX is favored (90.3%), suggesting affordability is key.\n",
    "\n",
    "- **Spending and Distance:** Average spend is 19.2 BRL per 8.1 km trip.\n",
    "\n",
    "- **Profitable Days:** Mondays, Wednesdays, Fridays, and Sundays are more profitable.\n",
    "\n",
    "- **User Behavior:** Average lead time before trips is around 5 minutes."
   ]
  },
  {
   "cell_type": "code",
   "execution_count": null,
   "id": "aaf8807e",
   "metadata": {},
   "outputs": [],
   "source": []
  }
 ],
 "metadata": {
  "kernelspec": {
   "display_name": "Python 3 (ipykernel)",
   "language": "python",
   "name": "python3"
  },
  "language_info": {
   "codemirror_mode": {
    "name": "ipython",
    "version": 3
   },
   "file_extension": ".py",
   "mimetype": "text/x-python",
   "name": "python",
   "nbconvert_exporter": "python",
   "pygments_lexer": "ipython3",
   "version": "3.11.3"
  }
 },
 "nbformat": 4,
 "nbformat_minor": 5
}
